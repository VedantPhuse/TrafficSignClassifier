{
  "nbformat": 4,
  "nbformat_minor": 0,
  "metadata": {
    "colab": {
      "name": "TrafficSignClassifierKeras.ipynb",
      "provenance": [],
      "collapsed_sections": [],
      "toc_visible": true,
      "authorship_tag": "ABX9TyOxn2chs3tvoD/rhP1rU1Pq",
      "include_colab_link": true
    },
    "kernelspec": {
      "name": "python3",
      "display_name": "Python 3"
    }
  },
  "cells": [
    {
      "cell_type": "markdown",
      "metadata": {
        "id": "view-in-github",
        "colab_type": "text"
      },
      "source": [
        "<a href=\"https://colab.research.google.com/github/VedantPhuse/TrafficSignClassifier/blob/master/TrafficSignClassifierKeras.ipynb\" target=\"_parent\"><img src=\"https://colab.research.google.com/assets/colab-badge.svg\" alt=\"Open In Colab\"/></a>"
      ]
    },
    {
      "cell_type": "markdown",
      "metadata": {
        "id": "1m0LeS3uthZm",
        "colab_type": "text"
      },
      "source": [
        "# Importing data from Kaggle"
      ]
    },
    {
      "cell_type": "code",
      "metadata": {
        "id": "CJBQoEZrsaFW",
        "colab_type": "code",
        "colab": {
          "base_uri": "https://localhost:8080/",
          "height": 202
        },
        "outputId": "145cebfa-3cc6-4eda-a1b2-55a89fa49ba9"
      },
      "source": [
        "pip install kaggle"
      ],
      "execution_count": null,
      "outputs": [
        {
          "output_type": "stream",
          "text": [
            "Requirement already satisfied: kaggle in /usr/local/lib/python3.6/dist-packages (1.5.6)\n",
            "Requirement already satisfied: urllib3<1.25,>=1.21.1 in /usr/local/lib/python3.6/dist-packages (from kaggle) (1.24.3)\n",
            "Requirement already satisfied: requests in /usr/local/lib/python3.6/dist-packages (from kaggle) (2.23.0)\n",
            "Requirement already satisfied: certifi in /usr/local/lib/python3.6/dist-packages (from kaggle) (2020.6.20)\n",
            "Requirement already satisfied: python-slugify in /usr/local/lib/python3.6/dist-packages (from kaggle) (4.0.1)\n",
            "Requirement already satisfied: six>=1.10 in /usr/local/lib/python3.6/dist-packages (from kaggle) (1.15.0)\n",
            "Requirement already satisfied: tqdm in /usr/local/lib/python3.6/dist-packages (from kaggle) (4.41.1)\n",
            "Requirement already satisfied: python-dateutil in /usr/local/lib/python3.6/dist-packages (from kaggle) (2.8.1)\n",
            "Requirement already satisfied: idna<3,>=2.5 in /usr/local/lib/python3.6/dist-packages (from requests->kaggle) (2.10)\n",
            "Requirement already satisfied: chardet<4,>=3.0.2 in /usr/local/lib/python3.6/dist-packages (from requests->kaggle) (3.0.4)\n",
            "Requirement already satisfied: text-unidecode>=1.3 in /usr/local/lib/python3.6/dist-packages (from python-slugify->kaggle) (1.3)\n"
          ],
          "name": "stdout"
        }
      ]
    },
    {
      "cell_type": "code",
      "metadata": {
        "id": "rP9DDp4_shvY",
        "colab_type": "code",
        "colab": {
          "resources": {
            "http://localhost:8080/nbextensions/google.colab/files.js": {
              "data": "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",
              "ok": true,
              "headers": [
                [
                  "content-type",
                  "application/javascript"
                ]
              ],
              "status": 200,
              "status_text": ""
            }
          },
          "base_uri": "https://localhost:8080/",
          "height": 90
        },
        "outputId": "42e1b3b0-1898-4451-98cd-cc57293d1153"
      },
      "source": [
        "from google.colab import files\n",
        "files.upload()"
      ],
      "execution_count": null,
      "outputs": [
        {
          "output_type": "display_data",
          "data": {
            "text/html": [
              "\n",
              "     <input type=\"file\" id=\"files-73c3c1a6-039a-407b-80e1-1899a6fa9a5b\" name=\"files[]\" multiple disabled\n",
              "        style=\"border:none\" />\n",
              "     <output id=\"result-73c3c1a6-039a-407b-80e1-1899a6fa9a5b\">\n",
              "      Upload widget is only available when the cell has been executed in the\n",
              "      current browser session. Please rerun this cell to enable.\n",
              "      </output>\n",
              "      <script src=\"/nbextensions/google.colab/files.js\"></script> "
            ],
            "text/plain": [
              "<IPython.core.display.HTML object>"
            ]
          },
          "metadata": {
            "tags": []
          }
        },
        {
          "output_type": "stream",
          "text": [
            "Saving kaggle.json to kaggle.json\n"
          ],
          "name": "stdout"
        },
        {
          "output_type": "execute_result",
          "data": {
            "text/plain": [
              "{'kaggle.json': b'{\"username\":\"vedantphuse\",\"key\":\"c3ae690b518eda304dd5b9f685c94806\"}'}"
            ]
          },
          "metadata": {
            "tags": []
          },
          "execution_count": 2
        }
      ]
    },
    {
      "cell_type": "code",
      "metadata": {
        "id": "i60Ix9zJsvSR",
        "colab_type": "code",
        "colab": {}
      },
      "source": [
        "! mkdir ~/.kaggle"
      ],
      "execution_count": null,
      "outputs": []
    },
    {
      "cell_type": "code",
      "metadata": {
        "id": "O2lWCeXCxJ04",
        "colab_type": "code",
        "colab": {}
      },
      "source": [
        "! cp kaggle.json ~/.kaggle/"
      ],
      "execution_count": null,
      "outputs": []
    },
    {
      "cell_type": "code",
      "metadata": {
        "id": "nHbJ6kXis54y",
        "colab_type": "code",
        "colab": {}
      },
      "source": [
        "#giving permissions\n",
        "! chmod 600 ~/.kaggle/kaggle.json"
      ],
      "execution_count": null,
      "outputs": []
    },
    {
      "cell_type": "code",
      "metadata": {
        "id": "mLM4jwQks_ZZ",
        "colab_type": "code",
        "colab": {
          "base_uri": "https://localhost:8080/",
          "height": 67
        },
        "outputId": "b066a14a-4b71-4448-d908-072f3631b155"
      },
      "source": [
        "! kaggle datasets download -d meowmeowmeowmeowmeow/gtsrb-german-traffic-sign"
      ],
      "execution_count": null,
      "outputs": [
        {
          "output_type": "stream",
          "text": [
            "Downloading gtsrb-german-traffic-sign.zip to /content\n",
            "100% 610M/612M [00:11<00:00, 38.7MB/s]\n",
            "100% 612M/612M [00:11<00:00, 55.7MB/s]\n"
          ],
          "name": "stdout"
        }
      ]
    },
    {
      "cell_type": "code",
      "metadata": {
        "id": "pK38Nl8AVJIz",
        "colab_type": "code",
        "colab": {}
      },
      "source": [
        "from IPython.display import clear_output"
      ],
      "execution_count": null,
      "outputs": []
    },
    {
      "cell_type": "code",
      "metadata": {
        "id": "dXSP-WtatIbc",
        "colab_type": "code",
        "colab": {}
      },
      "source": [
        "!unzip gtsrb-german-traffic-sign.zip\n",
        "clear_output()"
      ],
      "execution_count": null,
      "outputs": []
    },
    {
      "cell_type": "markdown",
      "metadata": {
        "id": "_m4gRhzItmZn",
        "colab_type": "text"
      },
      "source": [
        "# Preparing Data"
      ]
    },
    {
      "cell_type": "code",
      "metadata": {
        "id": "WKZwlQb2t7no",
        "colab_type": "code",
        "colab": {}
      },
      "source": [
        "# Importing Libraries\n",
        "import os\n",
        "import PIL\n",
        "from PIL import Image\n",
        "import matplotlib.pyplot as plt\n",
        "import numpy as np\n",
        "import random\n",
        "\n",
        "# Making sure that the graphs some in the notebook itself\n",
        "%matplotlib inline"
      ],
      "execution_count": 1,
      "outputs": []
    },
    {
      "cell_type": "code",
      "metadata": {
        "id": "ytRP471XtUon",
        "colab_type": "code",
        "colab": {}
      },
      "source": [
        "# Empty lists for data and labels\n",
        "data = []\n",
        "labels = []\n",
        "\n",
        "# We have 43 Classes\n",
        "classes = 43\n",
        "\n",
        "# Path for future use\n",
        "cur_path = '/content/'"
      ],
      "execution_count": 2,
      "outputs": []
    },
    {
      "cell_type": "code",
      "metadata": {
        "id": "2t1kuhL2ZY1R",
        "colab_type": "code",
        "colab": {}
      },
      "source": [
        "classnames = { 1:'Speed limit (20km/h)',\n",
        "            2:'Speed limit (30km/h)', \n",
        "            3:'Speed limit (50km/h)', \n",
        "            4:'Speed limit (60km/h)', \n",
        "            5:'Speed limit (70km/h)', \n",
        "            6:'Speed limit (80km/h)', \n",
        "            7:'End of speed limit (80km/h)', \n",
        "            8:'Speed limit (100km/h)', \n",
        "            9:'Speed limit (120km/h)', \n",
        "            10:'No passing', \n",
        "            11:'No passing veh over 3.5 tons', \n",
        "            12:'Right-of-way at intersection', \n",
        "            13:'Priority road', \n",
        "            14:'Yield', \n",
        "            15:'Stop', \n",
        "            16:'No vehicles', \n",
        "            17:'Veh > 3.5 tons prohibited', \n",
        "            18:'No entry', \n",
        "            19:'General caution', \n",
        "            20:'Dangerous curve left', \n",
        "            21:'Dangerous curve right', \n",
        "            22:'Double curve', \n",
        "            23:'Bumpy road', \n",
        "            24:'Slippery road', \n",
        "            25:'Road narrows on the right', \n",
        "            26:'Road work', \n",
        "            27:'Traffic signals', \n",
        "            28:'Pedestrians', \n",
        "            29:'Children crossing', \n",
        "            30:'Bicycles crossing', \n",
        "            31:'Beware of ice/snow',\n",
        "            32:'Wild animals crossing', \n",
        "            33:'End speed + passing limits', \n",
        "            34:'Turn right ahead', \n",
        "            35:'Turn left ahead', \n",
        "            36:'Ahead only', \n",
        "            37:'Go straight or right', \n",
        "            38:'Go straight or left', \n",
        "            39:'Keep right', \n",
        "            40:'Keep left', \n",
        "            41:'Roundabout mandatory', \n",
        "            42:'End of no passing', \n",
        "            43:'End no passing veh > 3.5 tons' }"
      ],
      "execution_count": 3,
      "outputs": []
    },
    {
      "cell_type": "markdown",
      "metadata": {
        "id": "V77ZanI1sdyr",
        "colab_type": "text"
      },
      "source": [
        "# Loading Data"
      ]
    },
    {
      "cell_type": "code",
      "metadata": {
        "id": "NKj5eXCat6U0",
        "colab_type": "code",
        "colab": {}
      },
      "source": [
        "# using PIL to read images\n",
        "for i in range(classes):\n",
        "    path = os.path.join(cur_path,'train',str(i))\n",
        "    images = os.listdir(path)\n",
        "    for a in images:\n",
        "        try: #using try and except for ease of coding\n",
        "            image = Image.open(path + '/'+ a)\n",
        "            image = image.resize((30,30))\n",
        "            image = np.array(image)\n",
        "            data.append(image)\n",
        "            labels.append(i)\n",
        "        except Exception as e:\n",
        "            print(e)"
      ],
      "execution_count": 4,
      "outputs": []
    },
    {
      "cell_type": "code",
      "metadata": {
        "id": "KMaDzhVrw2v0",
        "colab_type": "code",
        "colab": {}
      },
      "source": [
        "# Converting data to numpy array\n",
        "data = np.array(data)\n",
        "labels = np.array(labels)"
      ],
      "execution_count": 5,
      "outputs": []
    },
    {
      "cell_type": "code",
      "metadata": {
        "id": "YFSGA8bxwJ4A",
        "colab_type": "code",
        "colab": {
          "base_uri": "https://localhost:8080/",
          "height": 34
        },
        "outputId": "0628bfb1-86d1-43bd-87cc-ec1ea9d4946b"
      },
      "source": [
        "#Checking the shape of the input and labels\n",
        "print(data.shape, labels.shape)"
      ],
      "execution_count": 6,
      "outputs": [
        {
          "output_type": "stream",
          "text": [
            "(39209, 30, 30, 3) (39209,)\n"
          ],
          "name": "stdout"
        }
      ]
    },
    {
      "cell_type": "code",
      "metadata": {
        "id": "jZxdR-psW5Nk",
        "colab_type": "code",
        "colab": {
          "base_uri": "https://localhost:8080/",
          "height": 283
        },
        "outputId": "eb7c7724-adce-4bb0-9885-799e6bd224fa"
      },
      "source": [
        "#Checking a random \n",
        "l = random.randint(0, data.shape[0])\n",
        "plt.imshow(data[l])\n",
        "print(\"The corresponding traffic sign at index\", l,  \"reads:\" ,classnames[labels[l]+1])"
      ],
      "execution_count": 95,
      "outputs": [
        {
          "output_type": "stream",
          "text": [
            "The corresponding traffic sign at index 15233 reads: No passing veh over 3.5 tons\n"
          ],
          "name": "stdout"
        },
        {
          "output_type": "display_data",
          "data": {
            "image/png": "[encoded data removed]",
            "text/plain": [
              "<Figure size 432x288 with 1 Axes>"
            ]
          },
          "metadata": {
            "tags": [],
            "needs_background": "light"
          }
        }
      ]
    },
    {
      "cell_type": "code",
      "metadata": {
        "id": "ZBiaJxvhwxIL",
        "colab_type": "code",
        "colab": {}
      },
      "source": [
        "# Using sklearn for splitting the training data for training and validation\n",
        "from sklearn.model_selection import train_test_split"
      ],
      "execution_count": 8,
      "outputs": []
    },
    {
      "cell_type": "code",
      "metadata": {
        "id": "RnSJ3q8xxGwp",
        "colab_type": "code",
        "colab": {}
      },
      "source": [
        "# Splitting the training data\n",
        "X_train, X_test, y_train, y_test = train_test_split(data, labels, test_size=0.2, random_state=42)"
      ],
      "execution_count": 9,
      "outputs": []
    },
    {
      "cell_type": "code",
      "metadata": {
        "id": "5VBUbUjUxrWa",
        "colab_type": "code",
        "colab": {
          "base_uri": "https://localhost:8080/",
          "height": 34
        },
        "outputId": "c728f969-56fe-4e00-a376-99a4451832ee"
      },
      "source": [
        "print(X_train.shape, X_test.shape, y_train.shape, y_test.shape)"
      ],
      "execution_count": 10,
      "outputs": [
        {
          "output_type": "stream",
          "text": [
            "(31367, 30, 30, 3) (7842, 30, 30, 3) (31367,) (7842,)\n"
          ],
          "name": "stdout"
        }
      ]
    },
    {
      "cell_type": "code",
      "metadata": {
        "id": "yaZZcFeqyKh9",
        "colab_type": "code",
        "colab": {}
      },
      "source": [
        "# One Hot encoding the traffic signs using to_categorical from Keras\n",
        "from keras.utils import to_categorical"
      ],
      "execution_count": 11,
      "outputs": []
    },
    {
      "cell_type": "code",
      "metadata": {
        "id": "dPPfHkfMxyfq",
        "colab_type": "code",
        "colab": {}
      },
      "source": [
        "y_train = to_categorical(y_train, 43)\n",
        "y_test = to_categorical(y_test, 43)"
      ],
      "execution_count": 12,
      "outputs": []
    },
    {
      "cell_type": "code",
      "metadata": {
        "id": "DIuKfPClyCM1",
        "colab_type": "code",
        "colab": {
          "base_uri": "https://localhost:8080/",
          "height": 34
        },
        "outputId": "2488cad0-1f26-4267-a245-75bfdcffd903"
      },
      "source": [
        "# Checking if the one hot encoding worked\n",
        "print(X_train.shape, X_test.shape, y_train.shape, y_test.shape)"
      ],
      "execution_count": 13,
      "outputs": [
        {
          "output_type": "stream",
          "text": [
            "(31367, 30, 30, 3) (7842, 30, 30, 3) (31367, 43) (7842, 43)\n"
          ],
          "name": "stdout"
        }
      ]
    },
    {
      "cell_type": "code",
      "metadata": {
        "id": "nF4zH8wwpeBB",
        "colab_type": "code",
        "colab": {}
      },
      "source": [
        "X_train = X_train / 255\n",
        "X_test = X_test / 255"
      ],
      "execution_count": 14,
      "outputs": []
    },
    {
      "cell_type": "markdown",
      "metadata": {
        "id": "HmQNyrqrtxne",
        "colab_type": "text"
      },
      "source": [
        "# Buiding a CNN Model"
      ]
    },
    {
      "cell_type": "code",
      "metadata": {
        "id": "Ppe83O5aKk00",
        "colab_type": "code",
        "colab": {}
      },
      "source": [
        "# Using Keras to build the model\n",
        "from keras.models import Sequential, load_model\n",
        "from keras.layers import Conv2D, MaxPool2D, Dense, Flatten, Dropout"
      ],
      "execution_count": 15,
      "outputs": []
    },
    {
      "cell_type": "code",
      "metadata": {
        "id": "CgqUZJadIJ1t",
        "colab_type": "code",
        "colab": {}
      },
      "source": [
        "# Building a CNN model\n",
        "model = Sequential()\n",
        "model.add(Conv2D(filters=32, kernel_size=(5,5), activation='relu', input_shape=X_train.shape[1:]))\n",
        "model.add(Conv2D(filters=32, kernel_size=(5,5), activation='relu'))\n",
        "model.add(MaxPool2D(pool_size=(2, 2)))\n",
        "model.add(Dropout(rate=0.25))\n",
        "model.add(Conv2D(filters=64, kernel_size=(3, 3), activation='relu'))\n",
        "model.add(Conv2D(filters=64, kernel_size=(3, 3), activation='relu'))\n",
        "model.add(MaxPool2D(pool_size=(2, 2)))\n",
        "model.add(Dropout(rate=0.25))\n",
        "model.add(Flatten())\n",
        "model.add(Dense(256, activation='relu'))\n",
        "model.add(Dropout(rate=0.5))\n",
        "# We have 43 classes that's why we have defined 43 in the dense\n",
        "model.add(Dense(43, activation='softmax'))"
      ],
      "execution_count": 16,
      "outputs": []
    },
    {
      "cell_type": "code",
      "metadata": {
        "id": "DbVj7uJSKfNn",
        "colab_type": "code",
        "colab": {}
      },
      "source": [
        "#Compilation of the model\n",
        "model.compile(loss='categorical_crossentropy', optimizer='adam', metrics=['accuracy'])"
      ],
      "execution_count": 17,
      "outputs": []
    },
    {
      "cell_type": "markdown",
      "metadata": {
        "id": "a_j3TublvkZr",
        "colab_type": "text"
      },
      "source": [
        "# Training the Model"
      ]
    },
    {
      "cell_type": "code",
      "metadata": {
        "id": "_kHdLK_TKuUt",
        "colab_type": "code",
        "colab": {
          "base_uri": "https://localhost:8080/",
          "height": 340
        },
        "outputId": "8baced70-2c6f-4d48-fa4d-0e1803ea1917"
      },
      "source": [
        "epochs = 10\n",
        "history = model.fit(X_train, y_train, batch_size=64, epochs=epochs, shuffle = True, validation_data=(X_test, y_test))"
      ],
      "execution_count": 18,
      "outputs": [
        {
          "output_type": "stream",
          "text": [
            "Epoch 1/10\n",
            "491/491 [==============================] - 118s 240ms/step - loss: 1.5124 - accuracy: 0.5810 - val_loss: 0.1969 - val_accuracy: 0.9466\n",
            "Epoch 2/10\n",
            "491/491 [==============================] - 119s 242ms/step - loss: 0.2762 - accuracy: 0.9158 - val_loss: 0.0875 - val_accuracy: 0.9790\n",
            "Epoch 3/10\n",
            "490/491 [============================>.] - ETA: 0s - loss: 0.1581 - accuracy: 0.9524Epoch 4/10\n",
            "491/491 [==============================] - 118s 239ms/step - loss: 0.1147 - accuracy: 0.9649 - val_loss: 0.0444 - val_accuracy: 0.9880\n",
            "Epoch 5/10\n",
            "491/491 [==============================] - 119s 241ms/step - loss: 0.0871 - accuracy: 0.9739 - val_loss: 0.0278 - val_accuracy: 0.9917\n",
            "Epoch 6/10\n",
            "491/491 [==============================] - 118s 240ms/step - loss: 0.0816 - accuracy: 0.9752 - val_loss: 0.0267 - val_accuracy: 0.9931\n",
            "Epoch 7/10\n",
            "491/491 [==============================] - 118s 241ms/step - loss: 0.0735 - accuracy: 0.9782 - val_loss: 0.0249 - val_accuracy: 0.9934\n",
            "Epoch 8/10\n",
            "491/491 [==============================] - 118s 240ms/step - loss: 0.0598 - accuracy: 0.9828 - val_loss: 0.0232 - val_accuracy: 0.9938\n",
            "Epoch 9/10\n",
            "491/491 [==============================] - 118s 240ms/step - loss: 0.0542 - accuracy: 0.9839 - val_loss: 0.0202 - val_accuracy: 0.9954\n",
            "Epoch 10/10\n",
            "491/491 [==============================] - 119s 242ms/step - loss: 0.0529 - accuracy: 0.9838 - val_loss: 0.0180 - val_accuracy: 0.9950\n"
          ],
          "name": "stdout"
        }
      ]
    },
    {
      "cell_type": "code",
      "metadata": {
        "id": "dKrMejPlKx5J",
        "colab_type": "code",
        "colab": {
          "base_uri": "https://localhost:8080/",
          "height": 295
        },
        "outputId": "9a1f9ddc-1647-42f3-a8d1-38d77029b4d1"
      },
      "source": [
        "# Plotting the accuracy change with epochs, using the built in history function of Keras \n",
        "plt.figure(0)\n",
        "plt.plot(history.history['accuracy'], label='training accuracy')\n",
        "plt.plot(history.history['val_accuracy'], label='val accuracy')\n",
        "plt.title('Accuracy')\n",
        "plt.xlabel('epochs')\n",
        "plt.ylabel('accuracy')\n",
        "plt.legend()\n",
        "plt.show()"
      ],
      "execution_count": 19,
      "outputs": [
        {
          "output_type": "display_data",
          "data": {
            "image/png": "[encoded data removed]",
            "text/plain": [
              "<Figure size 432x288 with 1 Axes>"
            ]
          },
          "metadata": {
            "tags": [],
            "needs_background": "light"
          }
        }
      ]
    },
    {
      "cell_type": "code",
      "metadata": {
        "id": "V-q6FPtFXglO",
        "colab_type": "code",
        "colab": {
          "base_uri": "https://localhost:8080/",
          "height": 295
        },
        "outputId": "1c3a7e7d-8ab1-4e09-e38b-d6b8b4ef9da5"
      },
      "source": [
        "# Plotting the loss change with epochs, again using the history function of Keras \n",
        "plt.plot(history.history['loss'], label='training loss')\n",
        "plt.plot(history.history['val_loss'], label='val loss')\n",
        "plt.title('Loss')\n",
        "plt.xlabel('epochs')\n",
        "plt.ylabel('loss')\n",
        "plt.legend()\n",
        "plt.show()"
      ],
      "execution_count": 20,
      "outputs": [
        {
          "output_type": "display_data",
          "data": {
            "image/png": "[encoded data removed]",
            "text/plain": [
              "<Figure size 432x288 with 1 Axes>"
            ]
          },
          "metadata": {
            "tags": [],
            "needs_background": "light"
          }
        }
      ]
    },
    {
      "cell_type": "markdown",
      "metadata": {
        "id": "9xpnR04rwBNv",
        "colab_type": "text"
      },
      "source": [
        "# Testing the model"
      ]
    },
    {
      "cell_type": "code",
      "metadata": {
        "id": "c8Pr4KisX0xL",
        "colab_type": "code",
        "colab": {}
      },
      "source": [
        "import pandas as pd"
      ],
      "execution_count": 21,
      "outputs": []
    },
    {
      "cell_type": "code",
      "metadata": {
        "id": "hbwYgZjOXhFJ",
        "colab_type": "code",
        "colab": {}
      },
      "source": [
        "# Loading the test data\n",
        "def testing(testcsv):\n",
        "    y_test = pd.read_csv(testcsv)\n",
        "    label = y_test[\"ClassId\"].values\n",
        "    imgs = y_test[\"Path\"].values\n",
        "    data=[]\n",
        "    for img in imgs:\n",
        "        image = Image.open(img)\n",
        "        image = image.resize((30,30))\n",
        "        data.append(np.array(image))\n",
        "    X_test=np.array(data)\n",
        "    return X_test,label"
      ],
      "execution_count": 22,
      "outputs": []
    },
    {
      "cell_type": "code",
      "metadata": {
        "id": "DX_KizadXnzQ",
        "colab_type": "code",
        "colab": {}
      },
      "source": [
        "X_test, label = testing('Test.csv')"
      ],
      "execution_count": 23,
      "outputs": []
    },
    {
      "cell_type": "code",
      "metadata": {
        "id": "ou3HvjcbXtQc",
        "colab_type": "code",
        "colab": {
          "base_uri": "https://localhost:8080/",
          "height": 136
        },
        "outputId": "67679408-94c8-413b-dc69-85302ab34d6e"
      },
      "source": [
        "Y_pred = model.predict(X_test)\n",
        "Y_pred"
      ],
      "execution_count": 24,
      "outputs": [
        {
          "output_type": "execute_result",
          "data": {
            "text/plain": [
              "array([[0., 0., 0., ..., 0., 0., 0.],\n",
              "       [0., 1., 0., ..., 0., 0., 0.],\n",
              "       [0., 0., 0., ..., 0., 0., 0.],\n",
              "       ...,\n",
              "       [0., 0., 0., ..., 0., 0., 0.],\n",
              "       [0., 0., 0., ..., 0., 0., 0.],\n",
              "       [0., 0., 0., ..., 0., 0., 0.]], dtype=float32)"
            ]
          },
          "metadata": {
            "tags": []
          },
          "execution_count": 24
        }
      ]
    },
    {
      "cell_type": "code",
      "metadata": {
        "id": "tw3EGIzh2qu6",
        "colab_type": "code",
        "colab": {
          "base_uri": "https://localhost:8080/",
          "height": 34
        },
        "outputId": "92b69cd3-b7f5-448a-db5f-eb8a90bfc3c7"
      },
      "source": [
        "Y_pred.shape"
      ],
      "execution_count": 27,
      "outputs": [
        {
          "output_type": "execute_result",
          "data": {
            "text/plain": [
              "(12630, 43)"
            ]
          },
          "metadata": {
            "tags": []
          },
          "execution_count": 27
        }
      ]
    },
    {
      "cell_type": "code",
      "metadata": {
        "id": "kAhfKqrm5VOw",
        "colab_type": "code",
        "colab": {
          "base_uri": "https://localhost:8080/",
          "height": 34
        },
        "outputId": "fa92528c-9317-42fc-fd4d-f321ae8a5efe"
      },
      "source": [
        "label.shape"
      ],
      "execution_count": 28,
      "outputs": [
        {
          "output_type": "execute_result",
          "data": {
            "text/plain": [
              "(12630,)"
            ]
          },
          "metadata": {
            "tags": []
          },
          "execution_count": 28
        }
      ]
    },
    {
      "cell_type": "code",
      "metadata": {
        "id": "yvwiKKDA5Y6W",
        "colab_type": "code",
        "colab": {
          "base_uri": "https://localhost:8080/",
          "height": 34
        },
        "outputId": "187821b5-ddcf-43fb-c3da-9d77f1ad4d74"
      },
      "source": [
        "print(type(label))"
      ],
      "execution_count": 29,
      "outputs": [
        {
          "output_type": "stream",
          "text": [
            "<class 'numpy.ndarray'>\n"
          ],
          "name": "stdout"
        }
      ]
    },
    {
      "cell_type": "code",
      "metadata": {
        "id": "DXhyEbYL5BPy",
        "colab_type": "code",
        "colab": {}
      },
      "source": [
        "Y_pred_list = Y_pred.tolist()"
      ],
      "execution_count": 55,
      "outputs": []
    },
    {
      "cell_type": "code",
      "metadata": {
        "id": "8Cz1PpFj9cDh",
        "colab_type": "code",
        "colab": {}
      },
      "source": [
        "Y_pred_soln = []\n",
        "for i in range (0, Y_pred.shape[0]):\n",
        "  if(Y_pred_list[i].count(1.) == 1):\n",
        "    ix = Y_pred_list[i].index(1.)\n",
        "  else:\n",
        "    ix = 0\n",
        "  Y_pred_soln.append(ix) "
      ],
      "execution_count": 61,
      "outputs": []
    },
    {
      "cell_type": "code",
      "metadata": {
        "id": "3x4lYmbI9cAY",
        "colab_type": "code",
        "colab": {
          "base_uri": "https://localhost:8080/",
          "height": 54
        },
        "outputId": "d5e8214b-ea23-4f9d-d3b4-5311c7e52ea8"
      },
      "source": [
        "print(Y_pred_soln)"
      ],
      "execution_count": 62,
      "outputs": [
        {
          "output_type": "stream",
          "text": [
            "[16, 1, 38, 33, 11, 38, 18, 12, 25, 35, 12, 7, 23, 7, 4, 9, 21, 20, 27, 38, 4, 33, 9, 3, 1, 11, 13, 10, 9, 11, 5, 17, 34, 0, 2, 17, 3, 12, 16, 8, 7, 30, 18, 12, 24, 25, 3, 10, 31, 8, 31, 13, 15, 9, 13, 35, 5, 26, 9, 16, 38, 10, 4, 9, 15, 9, 18, 2, 5, 28, 11, 25, 11, 34, 5, 12, 1, 10, 25, 25, 21, 33, 25, 7, 10, 35, 3, 7, 22, 13, 3, 1, 2, 14, 12, 32, 3, 38, 9, 33, 1, 10, 5, 11, 33, 4, 35, 25, 33, 4, 1, 14, 16, 10, 11, 3, 27, 29, 1, 17, 13, 7, 1, 8, 2, 10, 10, 0, 1, 6, 36, 3, 14, 13, 11, 10, 18, 40, 2, 38, 41, 4, 6, 18, 17, 25, 2, 41, 11, 21, 7, 24, 11, 25, 17, 3, 6, 9, 7, 4, 13, 16, 4, 25, 18, 9, 13, 14, 29, 17, 13, 38, 26, 25, 33, 1, 3, 40, 13, 2, 8, 4, 36, 25, 20, 25, 18, 1, 10, 8, 10, 29, 12, 38, 31, 2, 8, 38, 1, 28, 17, 9, 4, 1, 17, 9, 2, 31, 13, 15, 15, 38, 25, 5, 25, 13, 10, 5, 4, 10, 2, 4, 5, 1, 14, 12, 12, 5, 8, 36, 25, 13, 33, 18, 33, 19, 12, 40, 4, 18, 12, 13, 20, 0, 10, 40, 5, 8, 12, 38, 20, 14, 0, 36, 34, 28, 35, 13, 25, 15, 35, 14, 18, 25, 1, 38, 5, 25, 2, 18, 27, 18, 34, 9, 25, 18, 34, 39, 31, 1, 9, 35, 31, 18, 1, 1, 33, 21, 17, 13, 1, 31, 13, 35, 5, 1, 33, 28, 35, 26, 12, 5, 2, 14, 4, 23, 40, 1, 7, 38, 19, 11, 38, 38, 1, 42, 2, 40, 17, 4, 8, 4, 5, 6, 31, 35, 9, 38, 8, 2, 4, 18, 3, 25, 10, 5, 7, 34, 4, 38, 10, 29, 9, 2, 38, 38, 18, 7, 13, 28, 17, 2, 16, 14, 12, 40, 35, 3, 38, 10, 9, 38, 13, 39, 3, 11, 7, 38, 19, 13, 10, 18, 3, 5, 0, 1, 41, 13, 1, 18, 19, 13, 38, 4, 35, 25, 34, 12, 17, 9, 4, 33, 28, 2, 40, 5, 4, 38, 4, 12, 38, 36, 10, 0, 38, 36, 8, 25, 5, 2, 25, 14, 2, 26, 29, 10, 10, 14, 9, 2, 3, 1, 19, 9, 10, 13, 13, 20, 38, 34, 11, 13, 34, 34, 12, 6, 10, 10, 8, 3, 22, 17, 7, 30, 25, 1, 31, 38, 38, 8, 9, 0, 2, 40, 1, 38, 14, 8, 39, 0, 35, 25, 25, 17, 2, 38, 7, 13, 14, 7, 8, 35, 3, 1, 35, 40, 35, 36, 24, 13, 33, 2, 35, 6, 2, 10, 0, 31, 9, 14, 17, 26, 40, 3, 20, 5, 11, 9, 31, 40, 22, 30, 9, 7, 23, 4, 40, 42, 1, 3, 8, 2, 25, 22, 38, 33, 3, 1, 8, 4, 18, 26, 31, 14, 11, 13, 3, 5, 18, 4, 13, 15, 23, 1, 12, 31, 38, 5, 10, 35, 8, 6, 5, 12, 4, 1, 1, 1, 12, 12, 4, 5, 9, 13, 38, 4, 13, 8, 13, 24, 17, 10, 10, 18, 12, 23, 10, 10, 1, 23, 3, 8, 41, 6, 13, 33, 3, 2, 13, 0, 17, 10, 33, 1, 35, 10, 2, 30, 5, 5, 35, 13, 16, 17, 11, 3, 4, 29, 2, 26, 2, 11, 4, 19, 3, 9, 7, 38, 28, 9, 27, 41, 1, 29, 11, 10, 25, 1, 10, 38, 30, 14, 1, 12, 7, 13, 28, 8, 2, 17, 5, 35, 25, 8, 4, 7, 16, 29, 17, 9, 7, 8, 17, 11, 2, 13, 12, 7, 1, 2, 32, 17, 13, 5, 12, 11, 29, 13, 13, 10, 0, 13, 2, 7, 13, 10, 14, 13, 11, 4, 15, 10, 36, 35, 26, 0, 25, 40, 29, 8, 13, 14, 35, 12, 35, 35, 14, 25, 17, 34, 5, 4, 4, 13, 29, 4, 5, 8, 1, 2, 3, 4, 39, 12, 7, 16, 12, 12, 18, 16, 2, 36, 11, 39, 4, 5, 2, 36, 1, 5, 10, 13, 5, 30, 38, 13, 14, 11, 11, 35, 25, 2, 14, 38, 15, 38, 39, 38, 4, 1, 3, 1, 35, 17, 4, 39, 4, 2, 5, 29, 10, 28, 9, 28, 22, 42, 2, 12, 3, 23, 3, 13, 10, 3, 40, 4, 1, 5, 3, 9, 10, 4, 13, 28, 3, 4, 15, 15, 0, 33, 2, 39, 12, 38, 7, 10, 2, 10, 2, 38, 2, 5, 1, 3, 1, 42, 15, 15, 4, 15, 38, 25, 5, 5, 40, 2, 25, 0, 17, 0, 26, 31, 4, 13, 17, 1, 11, 8, 1, 2, 4, 14, 3, 4, 25, 4, 15, 2, 38, 1, 37, 7, 1, 18, 28, 11, 10, 9, 15, 11, 12, 10, 13, 13, 25, 4, 1, 38, 12, 23, 10, 2, 1, 29, 24, 10, 1, 28, 3, 11, 5, 6, 0, 2, 1, 33, 3, 9, 25, 16, 42, 35, 10, 28, 4, 1, 7, 5, 3, 23, 1, 1, 10, 30, 35, 24, 33, 1, 12, 2, 13, 13, 33, 17, 35, 5, 15, 31, 33, 42, 11, 24, 38, 4, 27, 7, 13, 21, 20, 38, 1, 13, 23, 13, 40, 13, 13, 38, 35, 5, 12, 25, 4, 1, 19, 3, 9, 2, 3, 17, 38, 5, 5, 38, 1, 11, 31, 2, 42, 38, 35, 29, 38, 0, 38, 10, 13, 1, 34, 22, 12, 31, 15, 13, 31, 1, 42, 36, 7, 20, 27, 15, 12, 14, 10, 5, 40, 3, 7, 13, 12, 7, 13, 4, 10, 8, 23, 10, 39, 2, 13, 7, 1, 5, 31, 10, 5, 31, 7, 39, 0, 23, 7, 38, 35, 38, 25, 38, 9, 16, 17, 1, 12, 12, 9, 5, 38, 3, 40, 12, 8, 10, 2, 0, 12, 35, 15, 4, 35, 5, 14, 1, 11, 35, 38, 30, 11, 4, 12, 1, 18, 8, 11, 41, 10, 2, 8, 2, 35, 13, 38, 9, 12, 7, 12, 31, 2, 11, 17, 35, 4, 18, 4, 34, 40, 11, 11, 33, 15, 13, 5, 0, 13, 13, 12, 7, 31, 32, 4, 41, 8, 2, 8, 39, 14, 42, 4, 7, 11, 21, 2, 2, 13, 10, 2, 8, 18, 4, 5, 4, 16, 33, 1, 18, 31, 37, 30, 9, 18, 5, 35, 20, 2, 20, 23, 5, 8, 9, 38, 12, 35, 5, 11, 10, 12, 33, 8, 38, 3, 32, 31, 41, 35, 40, 13, 7, 12, 8, 13, 1, 13, 8, 40, 4, 4, 5, 17, 40, 12, 35, 8, 33, 3, 15, 40, 14, 9, 4, 5, 31, 0, 2, 25, 1, 10, 33, 4, 35, 9, 1, 40, 4, 13, 17, 4, 6, 26, 38, 2, 20, 11, 41, 38, 34, 38, 39, 1, 27, 5, 9, 26, 17, 31, 24, 37, 12, 22, 5, 8, 4, 10, 2, 2, 10, 7, 10, 14, 9, 8, 14, 2, 5, 25, 4, 0, 29, 40, 16, 35, 11, 0, 12, 39, 12, 30, 12, 13, 9, 9, 11, 13, 17, 29, 14, 17, 26, 1, 13, 30, 10, 5, 5, 4, 4, 3, 34, 23, 4, 7, 14, 12, 22, 37, 35, 12, 28, 28, 2, 3, 12, 10, 1, 8, 17, 37, 12, 31, 11, 9, 5, 5, 0, 9, 5, 10, 38, 42, 18, 2, 14, 2, 12, 3, 2, 42, 0, 18, 14, 5, 0, 2, 1, 14, 36, 11, 13, 11, 10, 8, 34, 4, 38, 14, 2, 7, 17, 29, 33, 28, 7, 38, 18, 14, 1, 33, 16, 4, 19, 23, 6, 5, 8, 8, 10, 34, 35, 5, 11, 13, 35, 38, 9, 15, 5, 14, 26, 42, 26, 13, 17, 10, 4, 4, 9, 1, 2, 34, 1, 42, 31, 13, 9, 13, 12, 38, 8, 35, 38, 7, 2, 5, 12, 25, 8, 2, 12, 28, 12, 2, 2, 26, 3, 8, 11, 8, 10, 12, 5, 40, 2, 33, 25, 2, 41, 16, 18, 8, 3, 34, 31, 9, 9, 13, 38, 7, 1, 4, 13, 12, 18, 8, 38, 25, 5, 2, 42, 13, 35, 10, 12, 33, 13, 21, 2, 38, 10, 13, 17, 12, 1, 15, 7, 18, 34, 38, 12, 3, 3, 4, 12, 12, 10, 21, 14, 12, 14, 10, 4, 17, 7, 13, 1, 17, 8, 23, 18, 11, 38, 10, 10, 5, 25, 18, 4, 11, 31, 12, 1, 8, 12, 35, 11, 5, 4, 2, 40, 38, 5, 38, 13, 10, 3, 42, 34, 31, 26, 8, 5, 7, 20, 15, 2, 3, 10, 13, 18, 2, 35, 4, 31, 25, 13, 1, 2, 8, 12, 2, 32, 12, 15, 12, 2, 5, 5, 7, 34, 38, 7, 2, 8, 2, 8, 8, 9, 7, 13, 1, 5, 38, 17, 5, 10, 27, 13, 0, 1, 3, 42, 16, 0, 8, 8, 17, 13, 30, 18, 40, 2, 12, 38, 13, 1, 11, 14, 5, 3, 38, 39, 5, 25, 10, 29, 3, 9, 25, 38, 2, 5, 25, 25, 13, 10, 5, 3, 38, 1, 4, 28, 2, 20, 42, 2, 38, 38, 22, 1, 25, 10, 2, 5, 17, 1, 20, 3, 9, 38, 38, 28, 3, 28, 6, 13, 30, 21, 2, 7, 17, 35, 14, 13, 10, 38, 17, 10, 11, 8, 15, 25, 2, 4, 38, 6, 1, 25, 7, 8, 18, 3, 8, 13, 16, 23, 42, 16, 12, 2, 9, 32, 12, 2, 7, 7, 38, 12, 7, 25, 38, 38, 21, 9, 11, 10, 25, 12, 20, 5, 10, 2, 23, 9, 33, 13, 35, 19, 8, 5, 34, 9, 10, 4, 35, 17, 13, 10, 38, 13, 7, 26, 12, 14, 0, 28, 39, 40, 2, 25, 16, 6, 12, 38, 17, 29, 9, 7, 15, 22, 7, 1, 38, 13, 13, 25, 17, 23, 31, 38, 7, 38, 1, 25, 7, 34, 9, 17, 5, 26, 17, 30, 38, 27, 6, 5, 32, 25, 16, 35, 40, 7, 8, 0, 1, 1, 40, 30, 42, 10, 9, 10, 11, 10, 10, 13, 13, 15, 12, 38, 9, 40, 31, 4, 2, 33, 18, 1, 2, 12, 4, 15, 17, 10, 13, 36, 25, 2, 10, 5, 39, 4, 8, 38, 26, 20, 31, 27, 38, 5, 9, 7, 36, 21, 20, 37, 0, 9, 23, 34, 14, 2, 1, 18, 3, 3, 39, 10, 4, 12, 11, 3, 35, 35, 33, 20, 35, 10, 35, 25, 31, 5, 1, 7, 40, 11, 38, 8, 25, 12, 14, 31, 7, 9, 13, 22, 24, 7, 11, 28, 38, 16, 9, 35, 12, 4, 35, 9, 36, 10, 8, 18, 13, 0, 5, 28, 13, 35, 30, 4, 14, 23, 35, 38, 7, 5, 5, 16, 4, 2, 15, 4, 17, 35, 27, 33, 2, 29, 5, 11, 4, 10, 14, 13, 35, 28, 13, 0, 29, 5, 24, 12, 10, 38, 9, 42, 5, 1, 13, 21, 9, 33, 25, 25, 10, 33, 9, 12, 14, 38, 38, 2, 7, 25, 5, 15, 12, 1, 5, 1, 18, 8, 16, 39, 13, 10, 1, 4, 2, 17, 23, 9, 21, 38, 10, 10, 31, 2, 36, 38, 2, 31, 38, 8, 18, 25, 9, 38, 34, 38, 29, 16, 25, 35, 8, 22, 5, 13, 4, 11, 34, 31, 25, 1, 13, 8, 1, 12, 2, 39, 8, 23, 5, 5, 5, 15, 1, 10, 11, 8, 25, 25, 17, 10, 15, 25, 5, 4, 4, 1, 4, 7, 40, 11, 1, 20, 17, 26, 38, 12, 7, 4, 1, 40, 9, 9, 5, 1, 34, 12, 30, 12, 10, 3, 10, 17, 10, 7, 10, 25, 2, 22, 8, 38, 7, 2, 22, 11, 0, 13, 35, 12, 3, 3, 34, 38, 0, 11, 9, 26, 17, 2, 4, 35, 36, 12, 38, 10, 22, 38, 8, 7, 9, 17, 3, 25, 7, 4, 1, 25, 1, 38, 4, 25, 10, 7, 38, 13, 14, 35, 26, 35, 25, 12, 13, 4, 7, 1, 3, 0, 38, 7, 2, 13, 39, 1, 25, 3, 18, 1, 40, 36, 12, 9, 14, 9, 2, 2, 5, 26, 11, 12, 15, 27, 11, 12, 30, 1, 9, 18, 36, 7, 38, 17, 2, 9, 15, 13, 10, 31, 28, 18, 1, 13, 31, 28, 9, 11, 25, 37, 25, 12, 18, 1, 29, 31, 7, 2, 2, 6, 7, 4, 36, 1, 2, 17, 27, 5, 2, 13, 26, 7, 9, 3, 38, 18, 11, 13, 28, 13, 10, 5, 16, 13, 16, 9, 3, 16, 13, 35, 13, 10, 36, 1, 38, 17, 12, 11, 2, 4, 13, 18, 12, 33, 11, 36, 31, 7, 38, 5, 10, 1, 3, 40, 0, 4, 9, 2, 2, 2, 13, 16, 13, 2, 18, 2, 18, 6, 9, 2, 17, 14, 5, 0, 5, 26, 3, 17, 40, 38, 14, 16, 5, 8, 4, 2, 4, 11, 5, 13, 2, 11, 12, 4, 7, 38, 33, 10, 33, 12, 14, 38, 1, 23, 7, 27, 35, 10, 4, 1, 11, 35, 42, 28, 8, 12, 5, 18, 35, 17, 4, 8, 25, 17, 14, 8, 15, 10, 5, 40, 6, 14, 10, 35, 1, 13, 22, 16, 1, 35, 5, 13, 38, 7, 1, 4, 25, 11, 3, 12, 2, 12, 4, 10, 10, 13, 6, 23, 13, 25, 2, 12, 13, 2, 12, 13, 4, 16, 20, 40, 25, 10, 1, 7, 38, 5, 13, 9, 4, 38, 10, 17, 30, 13, 1, 14, 10, 10, 33, 2, 13, 2, 7, 36, 5, 1, 12, 17, 17, 1, 4, 1, 34, 3, 5, 35, 1, 1, 4, 13, 21, 25, 3, 7, 5, 3, 7, 2, 5, 15, 19, 2, 10, 14, 28, 38, 42, 36, 17, 1, 2, 38, 8, 16, 7, 13, 18, 1, 25, 40, 5, 29, 4, 13, 35, 33, 5, 1, 10, 18, 1, 11, 33, 10, 30, 30, 5, 31, 12, 2, 2, 1, 8, 13, 21, 2, 1, 25, 8, 33, 1, 17, 25, 15, 25, 11, 2, 7, 22, 10, 4, 25, 31, 10, 18, 1, 11, 17, 1, 2, 24, 0, 7, 5, 28, 12, 8, 23, 38, 1, 34, 23, 2, 8, 38, 9, 38, 8, 25, 13, 38, 13, 4, 31, 12, 8, 31, 22, 6, 40, 10, 33, 5, 1, 4, 12, 35, 25, 5, 11, 13, 7, 14, 8, 11, 1, 11, 17, 35, 4, 25, 6, 19, 9, 11, 35, 38, 25, 2, 9, 13, 2, 13, 18, 11, 38, 10, 2, 9, 12, 2, 9, 5, 1, 10, 25, 2, 38, 16, 38, 23, 38, 12, 31, 6, 11, 11, 39, 25, 36, 9, 40, 13, 25, 4, 9, 22, 2, 1, 13, 3, 4, 38, 12, 40, 12, 23, 39, 35, 31, 40, 2, 16, 5, 8, 20, 5, 9, 2, 11, 12, 29, 17, 8, 3, 15, 3, 13, 3, 13, 4, 1, 25, 5, 26, 25, 10, 1, 8, 40, 9, 10, 3, 25, 25, 12, 10, 13, 39, 17, 7, 39, 9, 12, 1, 9, 10, 4, 9, 18, 7, 4, 1, 0, 2, 4, 35, 11, 9, 5, 2, 7, 25, 14, 26, 23, 5, 18, 2, 29, 25, 25, 22, 12, 1, 14, 34, 33, 19, 2, 12, 9, 17, 26, 13, 14, 3, 2, 2, 5, 17, 25, 17, 30, 30, 34, 35, 4, 2, 2, 28, 33, 33, 33, 27, 18, 25, 9, 16, 40, 1, 5, 34, 10, 25, 25, 35, 5, 13, 5, 7, 4, 34, 15, 7, 13, 1, 23, 35, 5, 13, 5, 28, 13, 12, 11, 25, 34, 10, 3, 5, 31, 11, 11, 37, 38, 25, 16, 13, 30, 25, 25, 12, 12, 29, 15, 13, 1, 25, 8, 13, 3, 10, 18, 42, 9, 16, 4, 12, 15, 25, 6, 41, 1, 1, 2, 11, 13, 33, 38, 4, 5, 7, 2, 35, 10, 38, 4, 1, 13, 11, 38, 7, 5, 5, 35, 37, 38, 38, 1, 33, 29, 26, 25, 25, 10, 1, 1, 1, 16, 5, 23, 10, 9, 17, 2, 12, 9, 18, 35, 10, 2, 2, 12, 4, 25, 10, 12, 5, 13, 2, 3, 28, 1, 23, 2, 1, 9, 5, 38, 12, 1, 1, 13, 9, 1, 0, 29, 38, 5, 4, 18, 5, 36, 30, 10, 38, 16, 2, 31, 24, 38, 25, 17, 12, 29, 4, 10, 14, 11, 25, 18, 4, 4, 8, 25, 18, 7, 38, 3, 13, 31, 8, 21, 31, 38, 2, 2, 34, 10, 7, 10, 38, 8, 4, 12, 28, 5, 39, 41, 10, 13, 38, 38, 19, 1, 7, 6, 39, 3, 1, 19, 32, 38, 12, 8, 35, 12, 38, 17, 2, 1, 14, 35, 12, 35, 34, 0, 42, 1, 5, 31, 6, 28, 12, 38, 11, 5, 8, 8, 23, 1, 2, 1, 25, 10, 31, 3, 18, 18, 13, 18, 13, 34, 5, 4, 1, 23, 28, 4, 12, 1, 38, 1, 12, 25, 14, 38, 1, 17, 9, 16, 13, 7, 39, 2, 8, 2, 10, 25, 10, 4, 4, 10, 9, 39, 7, 22, 40, 4, 35, 10, 16, 12, 13, 34, 4, 2, 5, 25, 37, 17, 15, 14, 15, 12, 26, 18, 9, 17, 1, 7, 23, 1, 35, 30, 7, 10, 5, 13, 10, 9, 1, 10, 0, 1, 13, 10, 13, 2, 18, 13, 4, 2, 8, 16, 17, 18, 39, 15, 5, 9, 15, 17, 2, 8, 33, 33, 23, 1, 11, 28, 9, 4, 14, 3, 22, 17, 9, 3, 26, 2, 16, 17, 40, 12, 29, 11, 18, 1, 2, 38, 36, 25, 9, 5, 12, 7, 17, 4, 25, 6, 36, 26, 9, 7, 14, 11, 17, 20, 40, 12, 41, 5, 11, 36, 1, 15, 30, 12, 34, 33, 21, 0, 9, 16, 27, 3, 18, 31, 2, 26, 25, 38, 12, 6, 28, 35, 5, 30, 4, 8, 38, 17, 40, 1, 38, 38, 9, 25, 5, 1, 1, 42, 13, 13, 2, 0, 10, 35, 28, 5, 11, 11, 11, 1, 25, 38, 38, 31, 0, 13, 21, 20, 8, 38, 22, 28, 12, 17, 12, 35, 10, 13, 12, 1, 2, 10, 5, 13, 34, 2, 2, 17, 9, 13, 34, 2, 13, 10, 0, 4, 38, 10, 4, 1, 33, 2, 14, 35, 10, 13, 9, 5, 35, 40, 25, 40, 3, 13, 31, 22, 38, 39, 2, 25, 23, 11, 23, 12, 17, 36, 1, 38, 2, 8, 18, 4, 9, 7, 38, 14, 10, 38, 9, 14, 1, 25, 14, 1, 1, 25, 7, 10, 5, 40, 28, 20, 4, 9, 3, 1, 35, 2, 22, 2, 2, 1, 14, 4, 3, 27, 10, 5, 29, 10, 33, 38, 12, 17, 16, 12, 3, 4, 10, 8, 31, 38, 35, 1, 17, 26, 34, 7, 8, 10, 7, 17, 3, 12, 13, 31, 36, 7, 8, 12, 3, 5, 24, 11, 28, 2, 1, 5, 5, 9, 1, 13, 13, 13, 7, 31, 1, 2, 7, 1, 2, 26, 2, 4, 11, 24, 38, 10, 13, 26, 6, 4, 30, 23, 4, 35, 7, 15, 31, 23, 11, 25, 18, 27, 41, 1, 23, 8, 4, 15, 7, 25, 12, 9, 20, 1, 1, 11, 18, 13, 13, 15, 35, 25, 11, 8, 36, 2, 29, 12, 2, 3, 34, 16, 8, 10, 12, 9, 11, 11, 35, 30, 40, 4, 2, 1, 18, 17, 35, 0, 2, 12, 12, 12, 14, 8, 31, 1, 26, 7, 10, 5, 21, 13, 3, 13, 0, 2, 25, 10, 1, 5, 1, 7, 34, 14, 7, 2, 25, 15, 8, 33, 10, 10, 3, 17, 13, 11, 25, 1, 15, 1, 35, 14, 9, 13, 9, 25, 4, 1, 7, 31, 3, 1, 2, 20, 18, 38, 0, 39, 3, 15, 12, 2, 3, 35, 5, 11, 3, 1, 9, 37, 12, 7, 2, 38, 22, 16, 41, 31, 25, 29, 10, 16, 2, 29, 13, 22, 0, 12, 9, 23, 15, 13, 3, 12, 40, 25, 38, 10, 1, 11, 4, 36, 42, 30, 22, 5, 4, 31, 4, 9, 28, 13, 13, 16, 7, 5, 3, 9, 15, 14, 9, 19, 5, 5, 1, 13, 28, 8, 14, 6, 10, 1, 23, 13, 36, 2, 0, 28, 40, 2, 12, 15, 5, 4, 13, 35, 12, 4, 5, 11, 5, 2, 9, 18, 7, 1, 18, 2, 3, 12, 8, 1, 4, 4, 15, 14, 8, 2, 1, 8, 40, 5, 35, 22, 5, 35, 12, 1, 35, 12, 10, 38, 11, 38, 1, 36, 8, 11, 16, 42, 0, 1, 16, 12, 11, 15, 25, 20, 17, 1, 4, 18, 15, 25, 35, 12, 0, 2, 18, 24, 25, 18, 7, 9, 2, 8, 2, 40, 8, 10, 12, 13, 16, 12, 14, 38, 4, 38, 18, 38, 12, 7, 9, 38, 2, 2, 2, 24, 1, 40, 1, 5, 10, 9, 38, 18, 4, 4, 17, 12, 1, 35, 13, 9, 10, 17, 10, 5, 11, 8, 2, 13, 14, 11, 38, 10, 14, 18, 19, 32, 8, 5, 2, 12, 22, 2, 17, 6, 5, 35, 0, 9, 5, 37, 13, 13, 13, 11, 38, 10, 38, 8, 8, 8, 4, 38, 24, 35, 38, 17, 38, 10, 18, 11, 25, 3, 39, 7, 35, 9, 14, 3, 38, 12, 20, 38, 6, 14, 2, 4, 2, 37, 12, 8, 9, 38, 12, 4, 38, 9, 35, 4, 37, 21, 10, 2, 16, 23, 3, 2, 11, 25, 30, 1, 5, 1, 35, 10, 2, 5, 1, 12, 7, 7, 1, 38, 17, 10, 10, 18, 17, 1, 1, 14, 12, 7, 4, 14, 17, 38, 3, 3, 25, 25, 10, 13, 0, 2, 18, 31, 14, 26, 31, 14, 14, 9, 35, 3, 33, 1, 14, 25, 2, 0, 10, 17, 2, 25, 13, 4, 39, 5, 31, 10, 4, 4, 24, 1, 12, 8, 2, 41, 4, 12, 12, 10, 35, 21, 22, 2, 35, 6, 35, 3, 14, 2, 17, 2, 17, 0, 19, 33, 2, 4, 33, 28, 41, 6, 28, 38, 38, 30, 7, 25, 18, 0, 25, 13, 3, 11, 38, 35, 17, 22, 31, 18, 11, 25, 25, 31, 15, 30, 28, 12, 25, 31, 35, 34, 28, 29, 10, 16, 13, 31, 10, 1, 10, 5, 11, 13, 38, 4, 13, 13, 7, 1, 18, 7, 1, 2, 31, 11, 0, 30, 28, 0, 25, 18, 30, 23, 1, 1, 25, 13, 10, 37, 15, 5, 11, 4, 9, 11, 5, 2, 13, 30, 25, 9, 5, 13, 20, 3, 30, 10, 10, 14, 1, 25, 3, 10, 13, 35, 18, 18, 10, 4, 26, 28, 15, 17, 0, 14, 35, 12, 7, 38, 1, 2, 41, 7, 5, 20, 1, 6, 2, 2, 23, 11, 12, 1, 13, 35, 15, 25, 10, 38, 5, 28, 9, 34, 1, 38, 9, 5, 4, 16, 25, 23, 10, 0, 39, 12, 10, 41, 25, 33, 15, 33, 25, 27, 7, 13, 11, 1, 1, 7, 28, 17, 12, 7, 12, 31, 0, 38, 13, 24, 13, 14, 10, 1, 25, 5, 22, 1, 15, 8, 1, 25, 13, 15, 28, 41, 38, 17, 7, 33, 38, 3, 28, 35, 4, 4, 2, 31, 16, 38, 12, 12, 0, 2, 9, 4, 20, 31, 7, 4, 8, 9, 35, 13, 9, 38, 12, 7, 32, 16, 11, 7, 5, 13, 7, 12, 11, 1, 25, 12, 4, 17, 6, 38, 38, 12, 31, 6, 22, 4, 18, 15, 1, 8, 40, 26, 9, 3, 40, 13, 8, 34, 17, 36, 12, 40, 38, 4, 31, 35, 31, 40, 13, 25, 1, 1, 39, 31, 16, 10, 12, 42, 9, 39, 35, 13, 10, 13, 4, 4, 25, 34, 12, 2, 8, 29, 31, 4, 1, 8, 4, 23, 0, 15, 13, 25, 2, 4, 2, 12, 28, 11, 35, 4, 10, 38, 31, 12, 7, 16, 6, 1, 21, 5, 13, 2, 38, 2, 24, 5, 34, 9, 17, 26, 25, 24, 12, 17, 27, 35, 29, 8, 31, 5, 15, 22, 10, 28, 25, 12, 8, 9, 11, 1, 17, 29, 38, 2, 36, 30, 30, 1, 8, 13, 38, 1, 5, 29, 11, 18, 11, 10, 4, 15, 12, 7, 21, 38, 25, 13, 7, 12, 10, 1, 35, 1, 8, 38, 25, 13, 15, 12, 8, 17, 38, 9, 31, 10, 25, 1, 14, 39, 23, 10, 26, 31, 5, 36, 14, 4, 4, 7, 20, 34, 1, 21, 14, 4, 13, 6, 39, 11, 33, 30, 2, 3, 33, 1, 40, 1, 13, 23, 18, 10, 35, 1, 15, 21, 14, 3, 35, 12, 9, 33, 17, 12, 25, 18, 4, 31, 11, 5, 29, 11, 5, 14, 15, 5, 38, 14, 4, 10, 12, 2, 13, 17, 10, 4, 5, 4, 0, 8, 31, 4, 41, 21, 20, 25, 14, 1, 11, 21, 11, 18, 10, 5, 12, 13, 31, 12, 2, 12, 13, 16, 5, 2, 10, 5, 31, 12, 14, 17, 17, 13, 17, 16, 31, 11, 26, 36, 13, 7, 13, 2, 18, 8, 7, 1, 9, 38, 9, 13, 13, 1, 1, 8, 2, 8, 13, 38, 7, 18, 2, 14, 38, 5, 38, 12, 25, 5, 25, 30, 18, 5, 14, 12, 13, 5, 13, 9, 11, 25, 7, 12, 35, 15, 1, 3, 31, 17, 13, 5, 8, 25, 4, 38, 18, 10, 36, 17, 13, 8, 12, 4, 1, 2, 5, 17, 9, 25, 29, 35, 29, 35, 15, 2, 35, 11, 28, 26, 23, 3, 35, 25, 38, 1, 13, 9, 11, 7, 9, 38, 20, 39, 25, 13, 42, 11, 12, 38, 7, 3, 10, 35, 35, 4, 5, 5, 9, 35, 31, 24, 0, 0, 8, 9, 1, 1, 4, 7, 25, 15, 33, 14, 2, 15, 9, 12, 1, 11, 33, 4, 1, 18, 13, 12, 13, 2, 13, 10, 36, 10, 38, 3, 11, 38, 15, 0, 18, 35, 5, 9, 18, 8, 12, 15, 5, 4, 35, 4, 25, 5, 2, 0, 15, 8, 1, 1, 4, 4, 9, 17, 4, 10, 17, 38, 2, 2, 39, 1, 21, 15, 10, 4, 3, 13, 5, 9, 3, 18, 6, 7, 12, 42, 19, 30, 17, 1, 33, 8, 31, 31, 5, 1, 12, 28, 5, 12, 8, 20, 10, 10, 8, 8, 0, 5, 7, 9, 33, 10, 5, 12, 38, 21, 2, 7, 5, 2, 17, 5, 17, 12, 31, 25, 18, 2, 1, 3, 37, 9, 38, 5, 38, 8, 13, 10, 14, 12, 17, 31, 26, 33, 38, 17, 12, 2, 2, 13, 1, 21, 2, 10, 9, 33, 5, 13, 1, 4, 8, 2, 36, 12, 38, 4, 34, 12, 42, 5, 2, 1, 22, 25, 28, 3, 0, 2, 2, 17, 12, 30, 31, 30, 0, 1, 35, 40, 2, 10, 10, 7, 9, 4, 34, 5, 7, 30, 12, 13, 35, 28, 12, 35, 0, 12, 35, 27, 5, 1, 5, 1, 2, 2, 12, 3, 7, 16, 2, 7, 14, 18, 38, 25, 2, 18, 9, 36, 9, 25, 5, 5, 5, 3, 1, 13, 1, 25, 25, 8, 10, 25, 0, 31, 9, 2, 2, 0, 4, 13, 7, 11, 5, 15, 12, 17, 1, 1, 7, 24, 3, 3, 10, 26, 38, 10, 12, 2, 10, 3, 5, 1, 12, 0, 29, 34, 1, 0, 4, 35, 4, 5, 13, 33, 37, 37, 38, 33, 38, 21, 31, 11, 19, 38, 4, 12, 8, 24, 12, 2, 13, 7, 7, 1, 9, 38, 25, 20, 33, 35, 25, 30, 8, 2, 28, 19, 5, 39, 2, 4, 35, 12, 4, 10, 25, 8, 4, 4, 38, 1, 37, 5, 10, 1, 6, 6, 38, 12, 33, 40, 1, 10, 4, 25, 18, 4, 9, 39, 10, 7, 6, 7, 1, 10, 12, 13, 2, 2, 22, 6, 10, 11, 12, 21, 11, 38, 5, 4, 31, 27, 26, 26, 33, 4, 25, 7, 1, 2, 39, 38, 38, 40, 38, 2, 5, 13, 27, 16, 5, 36, 22, 14, 7, 3, 4, 4, 25, 26, 0, 0, 5, 9, 3, 21, 19, 12, 1, 1, 7, 14, 7, 1, 13, 4, 13, 22, 4, 38, 12, 12, 13, 2, 17, 17, 1, 26, 19, 7, 18, 14, 4, 1, 7, 8, 20, 10, 16, 28, 5, 17, 25, 12, 38, 3, 28, 13, 31, 36, 13, 15, 38, 25, 18, 4, 11, 11, 2, 38, 23, 8, 10, 7, 15, 31, 4, 39, 25, 0, 25, 17, 38, 16, 10, 1, 7, 16, 17, 10, 9, 25, 4, 17, 13, 18, 5, 5, 5, 10, 25, 7, 10, 0, 11, 42, 13, 2, 4, 4, 2, 22, 35, 17, 4, 7, 8, 23, 7, 10, 5, 10, 10, 4, 5, 7, 11, 3, 12, 38, 13, 9, 11, 29, 7, 3, 2, 40, 22, 10, 13, 38, 7, 14, 33, 3, 4, 15, 1, 9, 9, 11, 40, 39, 38, 12, 4, 3, 1, 14, 1, 38, 33, 27, 18, 10, 13, 18, 2, 31, 21, 30, 1, 21, 1, 38, 40, 24, 3, 11, 1, 4, 40, 7, 25, 31, 29, 7, 35, 10, 5, 12, 16, 8, 13, 17, 10, 14, 23, 8, 17, 9, 25, 1, 1, 38, 12, 31, 10, 31, 5, 10, 2, 34, 35, 11, 42, 39, 8, 5, 38, 7, 10, 2, 9, 13, 10, 14, 25, 19, 5, 8, 31, 13, 9, 40, 16, 11, 18, 9, 2, 17, 25, 2, 7, 25, 5, 12, 14, 11, 39, 7, 10, 13, 9, 15, 7, 10, 13, 35, 4, 40, 23, 38, 40, 35, 2, 15, 2, 29, 1, 25, 1, 35, 2, 39, 2, 3, 4, 26, 12, 4, 3, 35, 26, 14, 18, 1, 5, 13, 1, 2, 35, 9, 29, 1, 38, 18, 3, 3, 4, 17, 12, 26, 28, 33, 42, 25, 13, 9, 18, 6, 2, 3, 13, 11, 38, 18, 3, 12, 40, 13, 2, 35, 13, 5, 10, 27, 35, 17, 1, 29, 35, 2, 25, 14, 8, 2, 14, 38, 8, 1, 9, 10, 3, 13, 34, 36, 11, 13, 24, 10, 19, 25, 0, 11, 16, 36, 16, 15, 1, 28, 12, 4, 14, 10, 10, 12, 5, 2, 13, 1, 13, 9, 9, 2, 10, 23, 10, 22, 13, 2, 1, 7, 5, 27, 12, 5, 2, 25, 1, 38, 35, 25, 38, 1, 14, 5, 35, 14, 15, 15, 4, 9, 10, 1, 1, 38, 12, 39, 12, 40, 16, 15, 18, 17, 39, 5, 17, 3, 3, 25, 38, 2, 13, 12, 14, 13, 38, 4, 10, 38, 2, 18, 4, 25, 18, 2, 3, 13, 28, 5, 38, 4, 34, 5, 11, 11, 18, 28, 17, 1, 9, 12, 3, 38, 23, 13, 4, 16, 26, 8, 4, 13, 18, 38, 4, 35, 7, 10, 7, 1, 4, 20, 14, 13, 2, 17, 13, 36, 1, 38, 3, 13, 35, 2, 18, 13, 12, 2, 1, 11, 5, 13, 10, 38, 25, 14, 5, 1, 9, 17, 40, 12, 4, 31, 40, 26, 2, 6, 1, 11, 26, 35, 9, 3, 14, 1, 38, 5, 4, 2, 38, 18, 4, 38, 38, 3, 12, 1, 20, 2, 40, 2, 38, 41, 1, 12, 5, 3, 4, 15, 13, 38, 1, 38, 3, 2, 10, 1, 38, 13, 18, 1, 5, 23, 1, 4, 31, 12, 12, 25, 5, 4, 30, 25, 7, 38, 39, 12, 10, 13, 15, 23, 18, 25, 34, 20, 11, 20, 23, 12, 13, 36, 40, 11, 33, 5, 17, 10, 38, 0, 2, 6, 13, 14, 1, 30, 35, 38, 11, 35, 18, 27, 15, 2, 3, 13, 8, 31, 4, 18, 13, 25, 2, 25, 25, 1, 8, 31, 40, 22, 0, 9, 25, 25, 24, 1, 4, 12, 33, 5, 4, 23, 1, 9, 11, 4, 33, 28, 4, 17, 4, 40, 4, 5, 3, 30, 6, 34, 13, 14, 1, 40, 5, 3, 1, 1, 9, 5, 12, 15, 13, 24, 15, 20, 2, 28, 9, 7, 35, 10, 14, 17, 15, 2, 2, 18, 16, 7, 8, 35, 12, 9, 26, 13, 13, 26, 20, 21, 34, 14, 12, 38, 4, 18, 13, 18, 4, 12, 11, 12, 15, 12, 37, 7, 31, 15, 14, 9, 36, 38, 5, 13, 31, 12, 8, 11, 4, 11, 38, 10, 38, 1, 12, 6, 4, 11, 28, 20, 9, 10, 15, 10, 35, 15, 38, 8, 5, 26, 11, 13, 40, 28, 8, 3, 4, 13, 23, 34, 36, 10, 2, 8, 22, 11, 25, 2, 38, 4, 35, 13, 21, 15, 10, 5, 15, 7, 38, 5, 10, 12, 10, 35, 40, 3, 8, 38, 2, 38, 16, 31, 26, 33, 17, 10, 2, 26, 11, 38, 38, 25, 13, 23, 38, 7, 13, 4, 38, 19, 35, 17, 1, 28, 34, 0, 38, 31, 31, 2, 11, 40, 37, 15, 9, 7, 17, 38, 7, 14, 2, 1, 11, 1, 29, 11, 5, 14, 9, 38, 10, 25, 34, 17, 10, 1, 13, 9, 11, 39, 18, 27, 33, 13, 0, 12, 25, 10, 8, 8, 38, 12, 32, 8, 13, 38, 7, 7, 18, 15, 4, 18, 33, 2, 1, 2, 11, 1, 17, 1, 1, 12, 10, 10, 13, 4, 2, 36, 8, 12, 7, 30, 5, 15, 28, 40, 1, 7, 4, 17, 9, 17, 40, 7, 31, 10, 18, 13, 25, 17, 9, 38, 7, 5, 29, 12, 8, 10, 25, 29, 5, 3, 37, 0, 7, 3, 14, 35, 13, 0, 15, 21, 13, 38, 3, 5, 11, 18, 20, 5, 8, 18, 5, 7, 12, 5, 38, 14, 2, 4, 17, 2, 37, 40, 31, 7, 18, 13, 16, 13, 7, 1, 5, 7, 31, 2, 4, 8, 11, 0, 25, 9, 14, 12, 10, 16, 17, 38, 25, 6, 5, 1, 35, 2, 2, 11, 12, 1, 17, 12, 33, 38, 2, 4, 8, 28, 12, 29, 1, 41, 17, 38, 35, 9, 2, 2, 20, 12, 5, 2, 25, 2, 33, 7, 35, 4, 35, 12, 6, 7, 10, 42, 13, 5, 31, 3, 38, 1, 16, 11, 23, 4, 10, 4, 5, 8, 24, 31, 3, 4, 12, 21, 29, 26, 4, 1, 6, 5, 10, 4, 9, 7, 25, 4, 21, 5, 12, 4, 3, 2, 39, 38, 33, 33, 1, 37, 36, 5, 24, 13, 7, 10, 19, 30, 34, 18, 12, 14, 38, 5, 42, 13, 5, 3, 10, 37, 5, 31, 34, 9, 3, 24, 13, 6, 10, 33, 30, 4, 12, 37, 30, 25, 11, 38, 38, 5, 13, 1, 10, 10, 31, 31, 4, 37, 3, 12, 1, 7, 30, 12, 14, 35, 11, 11, 1, 8, 38, 7, 28, 10, 12, 2, 11, 23, 9, 11, 3, 1, 27, 3, 18, 2, 9, 4, 31, 30, 35, 2, 23, 10, 8, 38, 5, 5, 10, 9, 12, 38, 3, 3, 16, 13, 9, 12, 28, 40, 12, 22, 4, 35, 4, 5, 18, 38, 14, 38, 38, 28, 11, 13, 35, 13, 5, 38, 5, 7, 16, 18, 11, 1, 1, 13, 10, 14, 16, 4, 1, 11, 4, 10, 4, 38, 4, 2, 2, 10, 5, 33, 1, 25, 7, 15, 15, 9, 4, 35, 31, 13, 5, 12, 5, 29, 2, 3, 35, 17, 7, 2, 40, 35, 8, 10, 38, 35, 1, 35, 7, 2, 25, 0, 2, 1, 4, 36, 29, 8, 7, 35, 10, 1, 13, 4, 10, 5, 12, 7, 16, 5, 1, 1, 41, 19, 8, 13, 10, 1, 0, 13, 11, 2, 2, 1, 10, 14, 10, 39, 9, 25, 3, 6, 17, 13, 2, 3, 17, 2, 40, 1, 10, 5, 32, 8, 12, 42, 1, 35, 0, 1, 21, 1, 2, 29, 13, 3, 36, 15, 4, 23, 5, 5, 8, 8, 5, 4, 2, 10, 25, 4, 25, 0, 13, 34, 18, 25, 15, 25, 18, 6, 9, 7, 1, 13, 27, 1, 4, 23, 25, 35, 0, 4, 7, 10, 12, 12, 18, 26, 12, 25, 11, 35, 12, 35, 4, 10, 2, 7, 40, 11, 38, 13, 12, 13, 36, 5, 35, 15, 11, 13, 13, 36, 5, 33, 8, 34, 13, 1, 3, 38, 17, 6, 5, 25, 5, 10, 28, 10, 7, 2, 12, 5, 3, 2, 23, 20, 9, 4, 22, 9, 4, 38, 5, 9, 27, 8, 8, 41, 12, 11, 3, 5, 0, 25, 5, 36, 2, 13, 26, 17, 3, 13, 2, 28, 28, 20, 5, 1, 15, 17, 15, 2, 42, 2, 17, 30, 25, 26, 38, 30, 12, 6, 23, 25, 12, 25, 3, 13, 1, 13, 17, 25, 18, 6, 10, 18, 10, 6, 8, 2, 13, 36, 36, 18, 8, 24, 10, 14, 10, 7, 38, 2, 35, 5, 4, 13, 6, 12, 4, 38, 6, 8, 17, 5, 17, 7, 21, 3, 21, 10, 9, 3, 12, 36, 17, 6, 25, 12, 13, 14, 1, 2, 16, 9, 34, 9, 19, 13, 26, 4, 4, 10, 35, 22, 4, 6, 25, 5, 4, 29, 38, 13, 25, 12, 13, 12, 7, 8, 13, 38, 5, 14, 10, 33, 25, 18, 33, 18, 2, 38, 23, 9, 2, 1, 3, 10, 1, 17, 38, 5, 1, 5, 13, 5, 18, 4, 2, 9, 4, 3, 21, 38, 18, 40, 35, 23, 35, 12, 8, 8, 0, 38, 35, 35, 25, 29, 38, 15, 7, 4, 10, 21, 1, 12, 40, 33, 1, 8, 26, 38, 11, 38, 28, 5, 25, 1, 3, 2, 35, 23, 38, 33, 1, 15, 2, 11, 30, 31, 2, 4, 35, 7, 1, 17, 38, 38, 2, 42, 12, 3, 6, 31, 3, 31, 8, 7, 12, 10, 26, 0, 25, 10, 34, 21, 26, 8, 9, 25, 14, 5, 10, 9, 8, 7, 31, 40, 10, 13, 23, 25, 5, 17, 25, 1, 14, 4, 36, 1, 15, 5, 38, 38, 40, 4, 14, 25, 35, 17, 5, 11, 13, 36, 38, 13, 38, 34, 38, 4, 10, 8, 4, 25, 12, 2, 13, 10, 1, 25, 33, 40, 3, 19, 10, 5, 1, 35, 25, 4, 20, 3, 7, 1, 17, 8, 4, 2, 10, 38, 15, 38, 31, 38, 10, 8, 38, 11, 11, 0, 31, 5, 4, 35, 17, 1, 7, 1, 1, 1, 26, 2, 31, 5, 33, 31, 8, 9, 1, 37, 31, 9, 10, 11, 1, 33, 7, 4, 7, 5, 13, 2, 1, 1, 26, 25, 30, 14, 12, 4, 31, 9, 31, 8, 2, 5, 13, 1, 35, 23, 34, 15, 35, 4, 23, 31, 35, 17, 22, 13, 1, 11, 1, 38, 9, 30, 1, 15, 22, 34, 33, 2, 2, 11, 23, 38, 5, 4, 35, 34, 4, 33, 30, 9, 20, 17, 11, 1, 11, 40, 29, 38, 12, 38, 40, 9, 0, 1, 13, 36, 14, 12, 31, 3, 12, 38, 24, 30, 22, 4, 18, 10, 11, 2, 2, 38, 13, 35, 2, 16, 17, 38, 41, 8, 33, 22, 12, 38, 27, 2, 31, 5, 35, 7, 5, 8, 10, 4, 33, 17, 35, 5, 14, 9, 4, 5, 25, 28, 26, 13, 9, 13, 2, 2, 38, 1, 9, 11, 8, 13, 10, 7, 15, 10, 2, 11, 3, 17, 11, 10, 3, 9, 10, 7, 5, 4, 5, 8, 2, 8, 1, 30, 33, 2, 35, 5, 10, 12, 12, 22, 1, 5, 5, 9, 42, 33, 10, 8, 9, 12, 38, 22, 2, 38, 38, 1, 12, 7, 18, 1, 24, 19, 13, 23, 18, 13, 5, 0, 10, 20, 11, 11, 23, 21, 40, 35, 38, 4, 10, 26, 38, 18, 2, 9, 25, 33, 30, 25, 12, 12, 2, 9, 4, 34, 11, 4, 42, 36, 4, 12, 3, 9, 38, 37, 12, 25, 33, 25, 10, 9, 13, 38, 11, 1, 9, 20, 38, 37, 18, 10, 42, 41, 17, 33, 37, 25, 34, 38, 2, 15, 20, 3, 33, 10, 9, 1, 42, 25, 38, 8, 38, 4, 17, 36, 13, 18, 18, 14, 10, 1, 5, 23, 12, 12, 16, 2, 13, 37, 10, 25, 35, 2, 2, 12, 10, 1, 25, 25, 18, 2, 9, 13, 26, 18, 12, 35, 13, 25, 4, 34, 10, 1, 12, 10, 25, 3, 29, 1, 2, 35, 9, 7, 10, 10, 18, 8, 30, 10, 25, 13, 4, 13, 25, 12, 3, 4, 39, 14, 10, 38, 3, 33, 12, 14, 31, 24, 26, 8, 25, 24, 31, 2, 2, 4, 14, 1, 2, 31, 37, 17, 25, 1, 9, 22, 38, 12, 38, 9, 13, 1, 5, 6, 38, 1, 26, 5, 17, 23, 9, 9, 35, 2, 4, 1, 25, 16, 5, 3, 12, 1, 2, 2, 12, 38, 30, 1, 40, 38, 2, 2, 12, 17, 33, 1, 28, 1, 39, 5, 9, 35, 38, 3, 0, 1, 12, 2, 18, 25, 13, 17, 33, 35, 5, 17, 3, 12, 31, 5, 39, 26, 36, 5, 5, 38, 12, 2, 18, 14, 2, 35, 9, 5, 31, 12, 1, 38, 7, 9, 11, 12, 25, 25, 40, 35, 4, 18, 18, 32, 35, 20, 1, 1, 12, 2, 4, 5, 11, 12, 5, 10, 5, 21, 3, 10, 33, 26, 13, 1, 26, 36, 39, 7, 2, 5, 2, 2, 2, 13, 7, 33, 28, 5, 13, 4, 1, 10, 18, 42, 38, 25, 5, 11, 7, 2, 0, 12, 42, 1, 9, 35, 17, 13, 31, 8, 38, 3, 39, 9, 12, 11, 38, 8, 18, 8, 23, 25, 18, 35, 10, 38, 6, 1, 28, 12, 38, 35, 12, 14, 34, 16, 18, 5, 5, 14, 29, 17, 2, 1, 2, 25, 26, 5, 13, 35, 18, 11, 8, 15, 9, 8, 12, 4, 1, 42, 3, 17, 35, 1, 19, 10, 12, 4, 35, 38, 34, 4, 9, 8, 26, 4, 9, 10, 9, 10, 17, 24, 35, 7, 25, 13, 4, 5, 31, 18, 12, 8, 2, 7, 3, 31, 12, 13, 30, 7, 13, 3, 31, 24, 10, 38, 38, 42, 18, 10, 7, 1, 33, 8, 1, 7, 14, 33, 11, 1, 1, 2, 31, 3, 33, 3, 0, 1, 13, 38, 13, 42, 10, 5, 26, 34, 9, 4, 8, 42, 5, 5, 25, 19, 23, 31, 11, 4, 7, 10, 24, 0, 25, 11, 11, 3, 10, 4, 38, 1, 36, 12, 11, 0, 3, 10, 9, 23, 1, 30, 17, 12, 31, 3, 10, 5, 41, 8, 1, 25, 17, 1, 16, 37, 16, 9, 5, 25, 12, 7, 38, 2, 13, 1, 12, 4, 25, 33, 7, 3, 40, 20, 33, 35, 12, 7, 12, 2, 3, 5, 12, 8, 17, 8, 7, 2, 7, 3, 27, 11, 4, 42, 15, 2, 17, 1, 12, 4, 16, 6, 10, 17, 18, 2, 14, 22, 38, 23, 4, 29, 4, 28, 5, 11, 11, 12, 17, 12, 25, 4, 18, 38, 13, 10, 33, 9, 2, 28, 28, 8, 17, 38, 2, 10, 2, 2, 8, 7, 7, 14, 3, 32, 11, 16, 9, 15, 2, 2, 4, 1, 38, 11, 13, 18, 11, 22, 10, 5, 18, 18, 38, 12, 1, 13, 12, 9, 1, 41, 13, 11, 30, 1, 33, 4, 3, 15, 22, 4, 38, 30, 36, 2, 42, 5, 5, 31, 18, 5, 6, 12, 1, 40, 2, 8, 34, 36, 10, 0, 14, 0, 1, 18, 5, 15, 4, 34, 26, 1, 25, 0, 28, 8, 5, 35, 25, 5, 0, 32, 14, 36, 2, 9, 12, 7, 2, 3, 11, 35, 41, 42, 27, 35, 10, 1, 14, 38, 7, 17, 1, 35, 23, 8, 3, 3, 32, 38, 1, 5, 12, 13, 8, 8, 4, 22, 8, 26, 28, 4, 1, 38, 9, 9, 3, 10, 29, 33, 7, 16, 9, 2, 22, 31, 39, 9, 15, 35, 5, 38, 2, 35, 38, 11, 2, 23, 22, 38, 2, 8, 12, 5, 14, 22, 2, 13, 38, 4, 31, 2, 18, 31, 12, 5, 33, 5, 3, 38, 13, 6, 13, 14, 13, 35, 6, 31, 11, 35, 15, 10, 1, 19, 17, 6, 7, 32, 30, 10, 25, 9, 36, 13, 21, 10, 2, 17, 18, 37, 25, 5, 28, 2, 17, 28, 12, 7, 1, 0, 35, 3, 22, 2, 8, 16, 31, 1, 28, 12, 17, 13, 40, 11, 8, 2, 8, 30, 3, 8, 22, 12, 25, 25, 6, 8, 30, 2, 9, 7, 25, 7, 42, 18, 4, 14, 14, 5, 41, 30, 15, 7, 8, 14, 9, 20, 5, 12, 3, 38, 13, 5, 16, 10, 33, 7, 12, 1, 31, 33, 8, 1, 9, 21, 13, 35, 8, 33, 14, 2, 10, 1, 5, 1, 13, 18, 37, 4, 6, 3, 8, 38, 42, 29, 5, 2, 18, 35, 5, 23, 38, 8, 38, 13, 36, 1, 36, 35, 40, 23, 11, 10, 25, 0, 5, 29, 31, 14, 1, 38, 3, 1, 14, 11, 25, 38, 8, 12, 39, 25, 17, 4, 4, 1, 1, 4, 12, 25, 12, 5, 12, 1, 12, 12, 38, 11, 4, 30, 9, 4, 17, 25, 4, 16, 18, 13, 23, 18, 1, 21, 12, 10, 5, 42, 13, 4, 20, 2, 3, 13, 19, 16, 3, 4, 28, 5, 31, 13, 25, 35, 1, 18, 39, 38, 36, 31, 38, 38, 3, 13, 28, 17, 10, 11, 38, 7, 26, 33, 10, 28, 2, 3, 3, 13, 2, 12, 31, 38, 2, 34, 9, 1, 8, 31, 3, 31, 33, 12, 1, 6, 35, 30, 4, 2, 38, 34, 12, 12, 40, 9, 10, 4, 12, 25, 31, 25, 2, 13, 16, 3, 31, 33, 12, 12, 15, 1, 0, 8, 38, 33, 31, 38, 13, 13, 2, 31, 10, 2, 5, 5, 4, 38, 17, 7, 21, 31, 0, 8, 25, 4, 13, 7, 1, 38, 38, 1, 2, 12, 7, 2, 25, 28, 38, 37, 12, 29, 8, 9, 30, 5, 40, 38, 10, 1, 35, 4, 16, 4, 25, 7, 0, 6, 25, 20, 12, 11, 9, 5, 27, 38, 4, 5, 2, 18, 4, 1, 9, 3, 5, 1, 12, 11, 2, 10, 1, 20, 1, 28, 13, 20, 25, 12, 5, 27, 8, 36, 11, 7, 3, 10, 10, 2, 2, 7, 8, 13, 2, 13, 28, 9, 4, 39, 10, 13, 12, 18, 16, 38, 9, 8, 13, 11, 3, 28, 40, 8, 7, 18, 2, 17, 8, 16, 6, 33, 31, 9, 34, 17, 38, 9, 12, 2, 35, 4, 8, 18, 37, 8, 13, 12, 13, 11, 13, 12, 38, 12, 8, 31, 7, 30, 5, 7, 31, 9, 10, 38, 8, 28, 10, 5, 5, 25, 24, 14, 26, 28, 35, 4, 1, 4, 7, 39, 13, 5, 35, 0, 2, 31, 25, 3, 5, 10, 35, 42, 7, 25, 40, 8, 38, 5, 2, 12, 38, 1, 13, 12, 33, 38, 4, 5, 5, 11, 25, 10, 7, 4, 35, 2, 8, 4, 1, 34, 14, 13, 18, 37, 13, 5, 12, 10, 17, 17, 30, 20, 22, 10, 14, 38, 12, 12, 25, 12, 13, 35, 5, 25, 5, 1, 17, 4, 4, 13, 26, 3, 5, 30, 1, 34, 21, 18, 12, 12, 4, 2, 1, 20, 35, 31, 11, 16, 14, 32, 16, 37, 5, 35, 5, 15, 26, 25, 5, 10, 25, 40, 2, 5, 33, 10, 13, 1, 15, 38, 7, 1, 13, 35, 35, 42, 11, 1, 35, 29, 12, 37, 13, 0, 7, 5, 2, 14, 3, 38, 13, 15, 25, 8, 3, 18, 16, 28, 3, 23, 2, 4, 9, 30, 34, 2, 10, 25, 1, 38, 38, 24, 5, 19, 10, 35, 7, 11, 11, 30, 3, 23, 10, 18, 4, 1, 32, 5, 4, 38, 7, 38, 20, 25, 16, 21, 23, 13, 25, 21, 4, 10, 7, 2, 12, 40, 12, 34, 1, 9, 38, 18, 13, 38, 3, 17, 35, 40, 7, 9, 9, 9, 21, 38, 0, 10, 2, 15, 27, 31, 25, 36, 11, 24, 8, 35, 9, 5, 40, 38, 13, 18, 39, 38, 31, 29, 18, 10, 13, 30, 17, 16, 9, 35, 22, 13, 13, 13, 13, 13, 2, 13, 24, 3, 35, 2, 2, 9, 8, 38, 35, 7, 9, 9, 2, 1, 33, 2, 17, 5, 5, 3, 13, 34, 13, 35, 28, 10, 11, 2, 32, 12, 2, 13, 11, 35, 4, 12, 17, 2, 1, 1, 28, 4, 21, 17, 3, 1, 2, 18, 10, 12, 30, 1, 7, 2, 25, 40, 8, 27, 4, 41, 7, 3, 15, 9, 1, 7, 32, 14, 0, 9, 12, 34, 12, 2, 35, 10, 7, 26, 12, 8, 3, 11, 7, 38, 5, 4, 33, 1, 29, 4, 25, 25, 37, 12, 10, 15, 38, 11, 5, 18, 2, 13, 35, 26, 13, 38, 13, 2, 19, 12, 38, 25, 38, 6, 5, 5, 9, 34, 29, 13, 3, 10, 3, 40, 4, 5, 13, 29, 12, 42, 1, 7, 5, 3, 19, 1, 5, 2, 9, 38, 12, 33, 15, 22, 1, 1, 2, 35, 4, 17, 31, 18, 31, 10, 10, 38, 1, 9, 35, 31, 28, 16, 39, 8, 23, 5, 2, 7, 13, 13, 7, 13, 38, 8, 35, 9, 9, 13, 41, 35, 2, 12, 33, 40, 4, 1, 12, 1, 5, 11, 38, 7, 18, 14, 2, 8, 38, 5, 9, 11, 12, 12, 0, 35, 4, 5, 28, 31, 40, 4, 26, 2, 38, 2, 14, 13, 1, 4, 13, 12, 11, 11, 1, 21, 18, 25, 38, 6, 34, 0, 12, 16, 4, 18, 3, 1, 10, 5, 12, 1, 1, 11, 9, 2, 34, 3, 29, 6, 35, 12, 25, 35, 15, 38, 4, 12, 39, 4, 13, 38, 2, 39, 10, 11, 31, 6, 38, 25, 40, 7, 17, 35, 30, 10, 9, 38, 21, 38, 2, 39, 9, 33, 31, 1, 4, 20, 31, 13, 25, 23, 38, 1, 28, 2, 11, 1, 33, 18, 9, 20, 18, 25, 2, 9, 10, 8, 39, 38, 9, 4, 2, 8, 25, 5, 3, 13, 4, 3, 18, 25, 13, 12, 19, 13, 25, 4, 12, 39, 5, 5, 5, 3, 5, 8, 23, 4, 12, 28, 4, 9, 12, 13, 13, 17, 5, 1, 1, 39, 37, 13, 3, 1, 24, 10, 12, 6, 38, 17, 12, 31, 1, 11, 15, 15, 4, 7, 13, 13, 34, 7, 11, 21, 14, 24, 38, 4, 20, 4, 9, 1, 41, 10, 34, 2, 21, 1, 20, 2, 4, 25, 9, 16, 3, 26, 1, 5, 8, 7, 9, 14, 14, 14, 7, 4, 23, 28, 11, 29, 33, 11, 6, 6, 11, 12, 4, 13, 16, 7, 2, 10, 13, 10, 4, 0, 38, 10, 15, 10, 9, 37, 18, 38, 38, 13, 11, 13, 17, 1, 17, 7, 11, 2, 7, 18, 36, 18, 9, 2, 7, 39, 7, 25, 5, 25, 40, 4, 35, 10, 1, 12, 1, 12, 13, 5, 8, 18, 9, 35, 39, 5, 10, 13, 14, 30, 2, 12, 3, 38, 1, 38, 35, 1, 12, 2, 23, 23, 2, 28, 8, 4, 35, 8, 1, 13, 10, 17, 17, 14, 27, 2, 10, 35, 38, 38, 13, 31, 4, 7, 11, 1, 14, 25, 31, 22, 18, 10, 4, 11, 13, 38, 10, 8, 13, 27, 5, 4, 3, 23, 17, 1, 8, 14, 2, 13, 12, 5, 13, 31, 38, 23, 28, 35, 8, 16, 31, 5, 0, 1, 35, 34, 15, 7, 14, 13, 15, 12, 2, 4, 1, 17, 13, 12, 1, 9, 29, 5, 9, 38, 5, 9, 8, 38, 28, 4, 12, 2, 1, 13, 13, 8, 1, 31, 2, 8, 19, 2, 12, 4, 11, 12, 17, 17, 36, 12, 0, 18, 14, 23, 9, 13, 5, 18, 6, 2, 13, 13, 31, 3, 41, 23, 10, 1, 25, 38, 8, 5, 25, 40, 8, 5, 15, 10, 9, 11, 42, 22, 25, 33, 5, 30, 5, 5, 16, 28, 39, 41, 38, 12, 5, 12, 9, 13, 38, 17, 4, 25, 0, 13, 1, 12, 38, 41, 12, 33, 42, 38, 2, 2, 16, 32, 5, 15, 22, 35, 27, 10, 1, 17, 4, 8, 24, 33, 40, 0, 11, 31, 9, 15, 38, 9, 2, 15, 38, 10, 10, 23, 9, 38, 34, 38, 16, 4, 15, 40, 5, 13, 4, 27, 5, 4, 9, 38, 1, 35, 2, 1, 34, 12, 42, 7, 13, 2, 7, 5, 35, 2, 25, 7, 13, 13, 13, 38, 29, 25, 8, 17, 5, 5, 12, 15, 15, 11, 40, 9, 11, 8, 15, 1, 4, 6, 35, 26, 30, 18, 2, 42, 8, 3, 30, 13, 30, 17, 3, 13, 2, 38, 41, 34, 4, 12, 25, 26, 40, 5, 13, 29, 1, 11, 38, 14, 23, 10, 29, 18, 8, 13, 33, 10, 17, 4, 26, 13, 6, 24, 9, 39, 23, 38, 11, 36, 25, 35, 12, 39, 15, 3, 3, 25, 25, 38, 10, 14, 13, 23, 2, 12, 12, 4, 14, 2, 2, 4, 25, 31, 32, 4, 4, 10, 41, 27, 15, 10, 9, 31, 31, 10, 36, 35, 2, 36, 11, 7, 1, 31, 18, 12, 38, 38, 3, 7, 9, 38, 5, 2, 13, 13, 17, 8, 7, 10, 18, 13, 3, 2, 31, 33, 38, 21, 2, 1, 15, 2, 42, 10, 13, 33, 38, 25, 26, 4, 5, 5, 7, 25, 9, 13, 33, 34, 1, 5, 12, 31, 4, 13, 42, 3, 38, 2, 8, 14, 19, 2, 6, 12, 2, 25, 20, 11, 23, 12, 4, 3, 8, 23, 36, 38, 2, 33, 21, 5, 8, 18, 10, 1, 38, 19, 9, 18, 14, 16, 17, 12, 25, 35, 10, 5, 11, 14, 4, 14, 23, 10, 16, 38, 5, 3, 11, 1, 1, 38, 9, 11, 38, 26, 16, 2, 3, 3, 32, 9, 11, 7, 1, 5, 8, 23, 39, 12, 1, 4, 28, 1, 5, 23, 1, 33, 3, 9, 4, 5, 31, 38, 22, 10, 3, 10, 2, 5, 4, 37, 20, 35, 9, 2, 15, 12, 34, 13, 11, 12, 26, 38, 30, 2, 12, 21, 7, 27, 33, 1, 3, 10, 23, 5, 4, 6, 2, 25, 3, 2, 40, 26, 10, 29, 12, 4, 35, 39, 33, 1, 3, 4, 2, 3, 2, 10, 1, 22, 8, 10, 11, 15, 25, 4, 7, 11, 3, 38, 25, 8, 8, 0, 36, 5, 10, 4, 13, 35, 13, 17, 25, 28, 3, 10, 13, 12, 1, 6, 13, 18, 24, 4, 2, 3, 30, 32, 1, 8, 38, 14, 12, 27, 25, 1, 4, 38, 10, 12, 12, 22, 13, 11, 1, 32, 32, 40, 1, 18, 37, 35, 13, 31, 35, 38, 30, 13, 5, 38, 25, 5, 8, 26, 10, 10, 17, 2, 18, 39, 9, 11, 2, 1, 10, 2, 11, 12, 25, 38, 9, 10, 38, 0, 13, 13, 7, 32, 12, 1, 35, 10, 3, 25, 13, 5, 7, 9, 35, 23, 2, 5, 24, 37, 5, 12, 38, 9, 21, 13, 35, 25, 10, 17, 9, 10, 15, 36, 12, 42, 40, 4, 7, 2, 2, 31, 10, 4, 29, 0, 2, 29, 11, 18, 39, 31, 13, 8, 5, 40, 0, 18, 23, 12, 3, 35, 5, 25, 8, 4, 14, 7, 2, 21, 8, 9, 21, 1, 2, 2, 40, 18, 13, 18, 7, 11, 10, 15, 10, 12, 2, 35, 13, 38, 22, 28, 8, 11, 10, 13, 4, 6, 25, 1, 18, 18, 25, 8, 34, 18, 13, 11, 5, 31, 11, 28, 37, 4, 8, 12, 5, 2, 14, 13, 17, 8, 1, 3, 18, 4, 3, 8, 28, 1, 36, 34, 25, 7, 2, 9, 2, 30, 2, 13, 7, 23, 38, 2, 17, 1, 14, 36, 13, 3, 1, 38, 40, 38, 3, 11, 15, 35, 16, 12, 13, 25, 14, 1, 2, 1, 33, 1, 8, 4, 35, 6, 6, 18, 33, 38, 10, 14, 4, 12, 9, 33, 34, 35, 28, 18, 14, 13, 34, 13, 11, 20, 8, 5, 2, 8, 5, 12, 7, 33, 2, 10, 36, 26, 28, 13, 31, 38, 2, 22, 29, 25, 6, 21, 11, 18, 10, 6, 38, 22, 27, 10, 1, 23, 38, 7, 8, 13, 5, 10, 34, 2, 12, 10, 2, 31, 23, 2, 9, 35, 1, 4, 5, 17, 38, 24, 3, 10, 2, 6, 12, 12, 39, 18, 25, 13, 7, 1, 13, 28, 23, 3, 10, 38, 41, 11, 12, 2, 2, 33, 10, 38, 38, 16, 1, 23, 5, 9, 17, 8, 25, 26, 21, 10, 15, 4, 31, 25, 8, 13, 35, 16, 25, 9, 19, 42, 20, 8, 15, 27, 15, 4, 7, 17, 11, 38, 38, 1, 11, 3, 1, 1, 1, 38, 29, 1, 26, 4, 1, 1, 4, 1, 17, 4, 1, 1, 10, 35, 5, 3, 27, 9, 1, 16, 14, 12, 35, 38, 20, 35, 1, 3, 10, 5, 24, 40, 13, 6, 18, 27, 19, 11, 29, 9, 10, 27, 4, 5, 35, 15, 12, 8, 2, 5, 38, 5, 2, 9, 10, 14, 12, 4, 26, 35, 10, 4, 5, 14, 13, 10, 9, 18, 4, 13, 3, 15, 9, 14, 2, 4, 17, 33, 7, 6, 3, 42, 4, 1, 26, 38, 2, 11, 13, 16, 2, 16, 25, 4, 12, 17, 31, 36, 13, 20, 13, 15, 1, 10, 35, 38, 35, 11, 10, 26, 38, 7, 5, 18, 12, 28, 38, 14, 26, 38, 10, 9, 1, 38, 13, 22, 5, 4, 5, 5, 14, 14, 2, 13, 42, 5, 6, 3, 38, 5, 8, 35, 15, 13, 3, 5, 10, 20, 2, 30, 9, 11, 14, 25, 35, 4, 22, 25, 5, 12, 2, 10, 17, 13, 13, 1, 14, 3, 38, 4, 1, 4, 13, 7, 1, 2, 23, 4, 10, 4, 30, 4, 9, 2, 7, 7, 10, 11, 5, 40, 33, 18, 13, 7, 4, 2, 3, 38, 28, 3, 12, 12, 38, 16, 38, 38, 13, 3, 33, 7, 34, 11, 5, 18, 18, 11, 4, 9, 5, 38, 28, 4, 2, 38, 13, 39, 8, 3, 8, 10, 14, 18, 4, 3, 15, 36, 38, 2, 13, 34, 11, 25, 13, 2, 7, 5, 3, 13, 4, 7, 25, 4, 8, 10, 31, 9, 1, 30, 12, 29, 31, 2, 7, 12, 25, 9, 18, 16, 11, 18, 4, 2, 1, 10, 13, 13, 1, 9, 37, 20, 21, 19, 12, 38, 2, 11, 2, 33, 13, 34, 14, 13, 25, 38, 5, 4, 27, 38, 6, 35, 11, 1, 2, 15, 1, 38, 25, 13, 10, 25, 26, 13, 12, 11, 9, 9, 39, 8, 31, 13, 2, 17, 19, 21, 23, 17, 2, 14, 10, 28, 16, 11, 36, 8, 4, 10, 37, 32, 25, 8, 2, 3, 29, 32, 25, 17, 2, 26, 2, 7, 9, 8, 33, 4, 9, 14, 42, 12, 3, 38, 4, 31, 11, 9, 4, 0, 17, 38, 39, 23, 26, 3, 12, 13, 4, 31, 12, 33, 13, 7, 39, 10, 14, 9, 13, 2, 7, 24, 5, 2, 4, 9, 4, 13, 35, 35, 13, 26, 13, 1, 13, 15, 25, 8, 6, 13, 32, 10, 7, 38, 7, 14, 38, 1, 22, 26, 2, 1, 12, 8, 12, 3, 12, 39, 19, 42, 9, 10, 2, 6, 9, 2, 5, 2, 5, 3, 10, 9, 8, 31, 15, 10, 38, 38, 8, 5, 3, 8, 4, 40, 5, 2, 12, 35, 31, 3, 38, 14, 17, 9, 13, 1, 11, 40, 13, 18, 9, 3, 13, 35, 4, 13, 35, 15, 2, 24, 13, 8, 2, 38, 4, 17, 38, 1, 2, 28, 25, 5, 27, 12, 20, 38, 25, 13, 12, 4, 33, 23, 11, 13, 1, 6, 10, 0, 30, 12, 38, 11, 1, 38, 18, 4, 27, 2, 38, 13, 18, 5, 21, 9, 4, 8, 25, 2, 11, 33, 14, 13, 9, 9, 17, 12, 9, 40, 11, 5, 4, 0, 4, 10, 13, 28, 18, 10, 39, 2, 3, 22, 35, 16, 26, 35, 7, 18, 3, 25, 16, 35, 25, 4, 9, 5, 11, 1, 11, 36, 42, 1, 12, 4, 26, 3, 38, 34, 7, 3, 2, 11, 25, 25, 9, 3, 35, 3, 26, 5, 2, 38, 27, 14, 17, 12, 10, 7, 35, 3, 18, 25, 18, 10, 2, 11, 11, 4, 38, 38, 13, 20, 8, 26, 10, 12, 11, 13, 1, 4, 13, 1, 12, 33, 1, 31, 35, 5, 7, 21, 10, 2, 31, 10, 28, 9, 25, 36, 1, 38, 3, 17, 10, 12, 15, 13, 17, 29, 26, 12, 4, 17, 17, 8, 2, 10, 16, 33, 22, 35, 2, 40, 14, 11, 1, 25, 35, 22, 24, 40, 15, 3, 5, 4, 38, 12, 11, 3, 10, 19, 24, 9, 11, 12, 3, 5, 6, 3, 33, 13, 12, 4, 33, 5, 15, 18, 21, 25, 40, 7, 13, 1, 6, 10, 10, 17, 24, 14, 4, 10, 4, 11, 13, 8, 15, 30, 10, 14, 1, 11, 9, 2, 1, 5, 2, 38, 12, 8, 2, 0, 23, 11, 17, 9, 13, 23, 7, 25, 4, 7, 35, 2, 41, 35, 22, 10, 13, 38, 17, 8, 38, 4, 15, 7, 9, 22, 11, 12, 38, 7, 4, 38, 13, 13, 10, 38, 33, 1, 21, 38, 4, 9, 8, 37, 12, 42, 13, 25, 9, 10, 2, 5, 16, 20, 9, 33, 18, 10, 1, 11, 10, 8, 0, 1, 4, 5, 1, 8, 2, 5, 5, 14, 4, 35, 15, 9, 33, 12, 36, 7, 27, 42, 18, 9, 7, 7, 0, 26, 33, 15, 1, 8, 18, 13, 18, 4, 2, 10, 5, 11, 4, 8, 2, 33, 9, 33, 33, 9, 8, 4, 1, 10, 15, 11, 23, 4, 38, 12, 7, 3, 1, 40, 14, 4, 39, 24, 9, 4, 13, 1, 9, 2, 14, 17, 9, 25, 38, 17, 15, 38, 13, 10, 4, 0, 25, 33, 9, 11, 11, 5, 4, 40, 18, 17, 17, 20, 13, 5, 23, 4, 21, 4, 7, 1, 10, 2, 7, 4, 0, 25, 5, 1, 39, 10, 4, 6, 37, 4, 32, 32, 35, 41, 13, 38, 35, 25, 2, 21, 38, 8, 9, 2, 12, 25, 14, 28, 9, 14, 1, 25, 10, 42, 35, 8, 25, 36, 4, 25, 4, 31, 11, 3, 31, 2, 9, 23, 5, 2, 9, 12, 7, 10, 10, 29, 10, 4, 8, 13, 12, 4, 8, 18, 12, 2, 16, 1, 4, 18, 4, 18, 13, 5, 18, 25, 1, 25, 39, 38, 7, 14, 28, 30, 8, 12, 10, 2, 10, 13, 10, 3, 3, 1, 13, 4, 6, 2, 9, 3, 39, 21, 3, 10, 12, 9, 28, 1, 9, 4, 7, 15, 32, 35, 13, 2, 16, 5, 11, 8, 21, 29, 20, 38, 38, 9, 38, 11, 10, 25, 0, 21, 15, 14, 4, 11, 4, 13, 17, 18, 1, 26, 2, 26, 9, 1, 4, 25, 18, 3, 22, 11, 12, 31, 13, 8, 38, 23, 1, 2, 11, 8, 8, 1, 11, 10, 0, 21, 4, 40, 2, 31, 35, 25, 38, 17, 39, 42, 28, 4, 31, 11, 10, 10, 2, 31, 25, 22, 38, 7, 25, 10, 22, 4, 2, 12, 17, 1, 25, 9, 12, 3, 8, 38, 33, 38, 21, 34, 17, 18, 11, 4, 9, 2, 3, 14, 17, 1, 24, 9, 9, 11, 35, 3, 2, 18, 17, 28, 9, 28, 12, 14, 13, 8, 26, 1, 1, 17, 4, 18, 13, 3, 34, 12, 2, 22, 1, 18, 16, 25, 1, 35, 25, 30, 14, 35, 26, 2, 20, 38, 5, 7, 14, 25, 28, 2, 5, 1, 26, 25, 5, 1, 13, 4, 3, 11, 25, 31, 13, 11, 25, 38, 5, 12, 2, 20, 18, 8, 12, 18, 12, 2, 41, 25, 36, 9, 10, 8, 2, 4, 42, 1, 4, 0, 29, 4, 2, 42, 18, 13, 25, 12, 12, 12, 2, 39, 4, 10, 12, 2, 3, 10, 38, 35, 5, 33, 28, 1, 6, 42, 25, 2, 2, 15, 8, 36, 26, 2, 3, 32, 6, 7, 14, 1, 1, 13, 4, 1, 2, 15, 17, 2, 10, 25, 5, 31, 4, 11, 2, 5, 2, 13, 13, 10, 38, 1, 18, 9, 35, 38, 35, 13, 18, 21, 18, 22, 22, 7, 38, 33, 14, 28, 8, 38, 13, 7, 9, 9, 35, 11, 13, 35, 3, 33, 38, 8, 38, 12, 9, 2, 33, 3, 13, 5, 35, 23, 40, 4, 1, 5, 5, 31, 11, 9, 7, 17, 1, 18, 25, 30, 7, 13, 2, 4, 5, 3, 22, 16, 29, 40, 15, 39, 3, 1, 30, 1, 3, 38, 18, 33, 13, 17, 38, 5, 2, 10, 11, 12, 8, 13, 25, 3, 1, 38, 13, 11, 26, 11, 3, 11, 25, 9, 2, 18, 35, 1, 1, 9, 10, 36, 9, 2, 1, 31, 4, 3, 13, 13, 13, 2, 5, 10, 35, 9, 4, 7, 41, 25, 17, 4, 15, 3, 16, 13, 1, 31, 3, 17, 8, 39, 38, 14, 27, 13, 41, 1, 1, 11, 15, 3, 36, 10, 10, 16, 2, 24, 23, 2, 17, 3, 4, 35, 5, 7, 1, 15, 4, 11, 13, 4, 22, 8, 1, 2, 38, 13, 31, 9, 8, 25, 2, 18, 11, 11, 17, 13, 17, 2, 14, 5, 31, 36, 3, 10, 13, 23, 4, 38, 31, 3, 8, 2, 11, 12, 12, 36, 13, 14, 10, 2, 14, 39, 38, 4, 37, 35, 2, 23, 7, 1, 26, 38, 3, 17, 15, 3, 6, 13, 3, 18, 17, 13, 4, 24, 7, 8, 19, 9, 5, 4, 4, 7, 17, 38, 13, 14, 30, 12, 9, 8, 1, 5, 38, 11, 33, 38, 11, 8, 14, 17, 35, 3, 40, 25, 7, 7, 13, 1, 25, 38, 11, 9, 5, 11, 12, 1, 25, 1, 31, 19, 3, 16, 10, 12, 11, 8, 2, 2, 4, 35, 5, 22, 7, 9, 16, 1, 8, 38, 5, 1, 3, 38, 23, 5, 5, 9, 12, 13, 30, 7, 2, 4, 7, 26, 4, 1, 8, 17, 6, 15, 37, 12, 8, 18, 12, 16, 25, 14, 5, 1, 13, 38, 1, 35, 13, 11, 13, 2, 4, 38, 25, 25, 4, 23, 10, 3, 3, 5, 42, 37, 2, 10, 13, 23, 35, 38, 3, 10, 22, 2, 18, 36, 5, 1, 16, 31, 25, 16, 35, 9, 35, 38, 7, 17, 12, 4, 5, 1, 11, 8, 32, 38, 25, 17, 33, 10, 0, 10, 4, 3, 4, 5, 17, 4, 1, 2, 11, 7, 1, 2, 2, 36, 33, 8, 21, 25, 34, 23, 16, 12, 42, 18, 16, 12, 9, 9, 11, 25, 3, 38, 8, 12, 7, 2, 14, 1, 21, 12, 5, 17, 25, 12, 18, 9, 42, 9, 3, 11, 3, 15, 10, 40, 5, 5, 8, 14, 1, 3, 2, 31, 2, 36, 11, 17, 14, 2, 7, 13, 6, 5, 4, 7, 38, 20, 32, 12, 33, 28, 1, 17, 13, 17, 0, 23, 38, 1, 10, 11, 28, 2, 18, 1, 38, 8, 7, 38, 17, 4, 31, 3, 17, 5, 8, 10, 9, 41, 1, 26, 13, 10, 20, 10, 11, 7, 8, 13, 39, 25, 1, 31, 9, 12, 2, 12, 4, 17, 31, 9, 5, 7, 22, 9, 31, 1, 7, 18, 12, 22, 13, 10, 10, 10, 40, 2, 10, 10, 7, 11, 1, 14, 10, 38, 40, 7, 8, 25, 11, 38, 17, 14, 10, 4, 25, 35, 12, 11, 12, 10, 25, 18, 29, 2, 36, 7, 38, 5, 11, 13, 13, 4, 31, 12, 5, 22, 5, 24, 9, 7, 42, 1, 3, 1, 9, 12, 36, 25, 2, 16, 15, 10, 38, 1, 5, 35, 12, 25, 24, 25, 15, 9, 1, 17, 5, 38, 5, 12, 26, 5, 10, 28, 25, 36, 1, 12, 10, 14, 36, 7, 34, 9, 12, 35, 1, 4, 1, 21, 25, 21, 20, 25, 11, 8, 35, 3, 34, 13, 4, 27, 31, 2, 12, 21, 4, 25, 30, 35, 10, 4, 41, 18, 4, 3, 11, 35, 13, 13, 35, 7, 2, 38, 29, 5, 2, 38, 25, 0, 16, 13, 13, 40, 36, 13, 5, 30, 14, 9, 3, 5, 8, 5, 6, 15, 38, 30, 19, 11, 4, 19, 18, 31, 14, 12, 38, 40, 8, 2, 2, 38, 35, 8, 12, 2, 31, 10, 31, 8, 1, 10, 1, 10, 5, 14, 2, 36, 38, 32, 13, 34, 2, 33, 11, 3, 9, 3, 2, 9, 12, 12, 13, 30, 13, 41, 15, 12, 22, 2, 13, 38, 29, 2, 1, 5, 40, 38, 39, 31, 20, 1, 10, 35, 19, 5, 37, 38, 1, 17, 4, 38, 8, 25, 9, 33, 1, 40, 18, 24, 11, 4, 7, 13, 20, 1, 38, 5, 12, 26, 13, 4, 33, 18, 2, 37, 26, 11, 10, 2, 38, 38, 17, 10, 8, 5, 12, 8, 13, 14, 5, 31, 31, 13, 9, 17, 31, 5, 15, 33, 8, 4, 9, 18, 3, 5, 2, 4, 22, 13, 9, 26, 4, 1, 16, 13, 1, 4, 9, 10, 14, 27, 2, 28, 5, 1, 5, 21, 8, 4, 10, 2, 16, 13, 7, 1, 7, 35, 7, 4, 17, 1, 14, 13, 39, 30, 7, 5, 4, 1, 4, 25, 12, 25, 4, 13, 35, 7, 8, 7, 2, 38, 30, 10, 2, 3, 13, 33, 6, 15, 16, 0, 10, 26, 38, 24, 15, 11, 7, 14, 6, 14, 28, 24, 28, 1, 42, 5, 25, 23, 37, 7, 14, 13, 25, 9, 38, 2, 11, 4, 1, 2, 10, 3, 3, 14, 38, 36, 24, 12, 7, 5, 7, 2, 17, 25, 36, 13, 25, 3, 3, 1, 9, 18, 1, 18, 31, 10, 10, 7, 24, 13, 35, 33, 13, 14, 3, 30, 33, 5, 5, 8, 34, 35, 38, 26, 0, 2, 31, 25, 31, 16, 3, 23, 29, 33, 35, 12, 39, 11, 10, 10, 35, 15, 23, 13, 40, 7, 8, 39, 8, 4, 38, 6, 21, 14, 12, 13, 5, 34, 35, 3, 13, 22, 15, 31, 1, 21, 18, 3, 25, 23, 7, 39, 3, 5, 20, 12, 16, 0, 1, 6, 4, 35, 35, 38, 3, 3, 36, 6, 17, 7, 13, 38, 35, 12, 21, 11, 0, 8, 8, 9, 1, 2, 17, 38, 3, 13, 5, 11, 13, 4, 0, 2, 8, 4, 19, 18, 33, 1, 0, 39, 8, 10, 10, 21, 10, 5, 25, 18, 5, 13, 17, 25, 9, 33, 2, 1, 30, 12, 31, 40, 40, 4, 7, 18, 9, 1, 5, 31, 42, 1, 9, 9, 1, 33, 33, 5, 17, 27, 12, 25, 2, 38, 9, 40, 33, 9, 35, 9, 12, 11, 1, 4, 21, 34, 5, 2, 18, 9, 35, 0, 18, 2, 5, 26, 10, 13, 10, 4, 8, 26, 2, 9, 10, 3, 25, 41, 16, 8, 14, 7, 10, 23, 13, 9, 12, 12, 8, 38, 15, 9, 11, 38, 14, 1, 25, 1, 20, 9, 26, 23, 2, 38, 12, 3, 20, 12, 13, 38, 10, 22, 3, 30, 35, 17, 11, 18, 4, 33, 17, 9, 9, 25, 36, 6, 3, 13, 29, 5, 7, 4, 4, 2, 38, 20, 4, 8, 22, 3, 3, 8, 14, 4, 7, 18, 28, 13, 18, 1, 34, 25, 7, 4, 16, 27, 38, 10, 2, 22, 2, 8, 8, 38, 23, 25, 38, 17, 8, 38, 1, 2, 6, 7, 18, 9, 3, 10, 11, 8, 31, 11, 9, 16, 17, 8, 8, 23, 2, 3, 2, 5, 2, 5, 22, 38, 20, 22, 13, 3, 22, 14, 12, 2, 24, 14, 10, 42, 7, 15, 8, 12, 0, 13, 10, 1, 12, 4, 7, 8, 21, 13, 38, 17, 7, 2, 4, 39, 41, 36, 9, 1, 12, 9, 28, 5, 38, 2, 2, 1, 9, 20, 12, 1, 3, 41, 9, 13, 37, 13, 33, 4, 35, 35, 5, 35, 25, 9, 2, 26, 17, 35, 12, 18, 37, 31, 38, 16, 1, 38, 31, 12, 35, 10, 10, 20, 2, 3, 18, 1, 0, 33, 2, 3, 18, 16, 42, 38, 13, 1, 2, 1, 18, 19, 4, 24, 1, 11, 7, 21, 18, 8, 6, 1, 2, 31, 12, 12, 11, 1, 13, 13, 1, 16, 5, 32, 38, 8, 25, 35, 8, 25, 8, 40, 2, 5, 3, 38, 31, 5, 38, 5, 10, 3, 38, 13, 5, 26, 1, 2, 8, 8, 7, 25, 18, 10, 25, 13, 5, 26, 15, 25, 2, 17, 10, 39, 2, 1, 16, 35, 25, 4, 4, 18, 14, 8, 3, 17, 2, 27, 2, 10, 40, 13, 11, 25, 25, 1, 17, 36, 23, 35, 3, 23, 9, 38, 38, 2, 27, 14, 38, 7, 25, 5, 2, 12, 4, 38, 11, 28, 28, 1, 15, 40, 1, 25, 39, 25, 13, 8, 3, 19, 20, 9, 22, 21, 7, 28, 2, 35, 17, 12, 5, 11, 31, 1, 31, 10, 35, 18, 14, 15, 2, 12, 5, 2, 15, 18, 23, 9, 30, 24, 29, 18, 1, 10, 35, 7, 2, 17, 39, 7, 27, 38, 1, 5, 16, 9, 26, 8, 4, 8, 13, 10, 40, 13, 38, 9, 25, 13, 12, 5, 1, 36, 8, 2, 2, 2, 31, 11, 9, 19, 22, 4, 7, 31, 12, 26, 2, 26, 18, 9, 3, 5, 9, 5, 2, 0, 38, 9, 7, 14, 25, 25, 36, 24, 4, 18, 36, 3, 24, 4, 12, 5, 40, 2, 3, 20, 15, 13, 13, 20, 5, 1, 39, 2, 35, 36, 5, 37, 11, 2, 9, 19, 28, 12, 5, 37, 9, 8, 33, 36, 0, 13, 12, 13, 5, 13, 2, 7, 11, 8, 5, 25, 1, 38, 13, 27, 3, 28, 2, 9, 11, 28, 2, 29, 10, 12, 33, 12, 11, 1, 1, 11, 15, 9, 38, 13, 4, 13, 5, 1, 10, 4, 34, 23, 12, 39, 3, 38, 31, 28, 2, 4, 2, 41, 6, 20, 35, 9, 21, 3, 9, 1, 13, 4, 7, 31, 23, 22, 11, 41, 10, 13, 6, 26, 9, 26, 1, 3, 33, 31, 16, 40, 40, 29, 5, 5, 18, 15, 3, 13, 12, 10, 10, 28, 15, 25, 7, 31, 35, 5, 40, 16, 33, 17, 10, 21, 14, 12, 4, 3, 4, 8, 1, 18, 3, 9, 29, 5, 3, 31, 3, 40, 30, 5, 19, 3, 38, 5, 2, 35, 5, 13, 17, 5, 38, 4, 7, 3, 4, 34, 38, 9, 33, 38, 32, 3, 38, 38, 42, 25, 25, 14, 34, 26, 1, 12, 4, 33, 10, 3, 10, 10, 13, 15, 1, 3, 1, 2, 18, 4, 33, 20, 3, 15, 33, 38, 2, 5, 13, 14, 13, 1, 25, 28, 24, 5, 25, 38, 4, 13, 2, 38, 24, 25, 16, 2, 1, 22, 5, 7, 6, 12, 16, 3, 35, 1, 9, 7, 8, 30, 23, 2, 39, 23, 10, 11, 1, 2, 15, 17, 7, 2, 18, 11, 9, 20, 2, 9, 3, 1, 11, 8, 10, 6, 10, 3, 25, 5, 22, 3, 12, 25, 13, 10, 35, 10, 35, 38, 24, 13, 35, 25, 38, 1, 18, 7, 35, 11, 39, 8, 0, 10, 18, 31, 8, 31, 13, 5, 12, 35, 25, 12, 33, 5, 7, 10]\n"
          ],
          "name": "stdout"
        }
      ]
    },
    {
      "cell_type": "code",
      "metadata": {
        "id": "e9UvPvVS_47g",
        "colab_type": "code",
        "colab": {
          "base_uri": "https://localhost:8080/",
          "height": 34
        },
        "outputId": "87c11617-418d-4989-f97c-3af46c7c8740"
      },
      "source": [
        "len(Y_pred_soln)"
      ],
      "execution_count": 63,
      "outputs": [
        {
          "output_type": "execute_result",
          "data": {
            "text/plain": [
              "12630"
            ]
          },
          "metadata": {
            "tags": []
          },
          "execution_count": 63
        }
      ]
    },
    {
      "cell_type": "code",
      "metadata": {
        "id": "ND7FC2b2_c8y",
        "colab_type": "code",
        "colab": {}
      },
      "source": [
        "Y_pred_arr = np.array(Y_pred_soln)"
      ],
      "execution_count": 64,
      "outputs": []
    },
    {
      "cell_type": "code",
      "metadata": {
        "id": "iIluuOicYBIy",
        "colab_type": "code",
        "colab": {
          "base_uri": "https://localhost:8080/",
          "height": 34
        },
        "outputId": "01200874-6d95-47fd-ab1b-53bfff6afa88"
      },
      "source": [
        "from sklearn.metrics import accuracy_score\n",
        "print(accuracy_score(label, Y_pred_arr))"
      ],
      "execution_count": 65,
      "outputs": [
        {
          "output_type": "stream",
          "text": [
            "0.9503562945368171\n"
          ],
          "name": "stdout"
        }
      ]
    },
    {
      "cell_type": "code",
      "metadata": {
        "id": "E5vSlxxlIjN9",
        "colab_type": "code",
        "colab": {
          "base_uri": "https://localhost:8080/",
          "height": 34
        },
        "outputId": "7e5062ee-c2ed-40f4-d3f8-729c873acf5d"
      },
      "source": [
        "1+1"
      ],
      "execution_count": 67,
      "outputs": [
        {
          "output_type": "execute_result",
          "data": {
            "text/plain": [
              "2"
            ]
          },
          "metadata": {
            "tags": []
          },
          "execution_count": 67
        }
      ]
    },
    {
      "cell_type": "markdown",
      "metadata": {
        "id": "J1KglhP2MlFd",
        "colab_type": "text"
      },
      "source": [
        "# Checking for external input"
      ]
    },
    {
      "cell_type": "markdown",
      "metadata": {
        "id": "V_NK52IcbF0U",
        "colab_type": "text"
      },
      "source": [
        "I have added this image into the runtime, which has been downloaded from Google.\n",
        "\n",
        "Lets check if the model works properly for this."
      ]
    },
    {
      "cell_type": "code",
      "metadata": {
        "id": "PPEyFV_UZoq1",
        "colab_type": "code",
        "colab": {
          "base_uri": "https://localhost:8080/",
          "height": 283
        },
        "outputId": "24f0f48a-188f-4113-9c71-92be4c9fc949"
      },
      "source": [
        "# Showing the image\n",
        "image = Image.open('Testsign.jpg')\n",
        "image = image.resize((30,30))\n",
        "image = np.array(image)\n",
        "\n",
        "plt.imshow(image)"
      ],
      "execution_count": 109,
      "outputs": [
        {
          "output_type": "execute_result",
          "data": {
            "text/plain": [
              "<matplotlib.image.AxesImage at 0x7fe11ea18908>"
            ]
          },
          "metadata": {
            "tags": []
          },
          "execution_count": 109
        },
        {
          "output_type": "display_data",
          "data": {
            "image/png": "[encoded data removed]",
            "text/plain": [
              "<Figure size 432x288 with 1 Axes>"
            ]
          },
          "metadata": {
            "tags": [],
            "needs_background": "light"
          }
        }
      ]
    },
    {
      "cell_type": "code",
      "metadata": {
        "id": "uqivXaaEOPOZ",
        "colab_type": "code",
        "colab": {}
      },
      "source": [
        "# Preparing the image for prediction \n",
        "image = Image.open('Testsign.jpg')\n",
        "image = image.resize((30,30))\n",
        "image = np.expand_dims(image, axis=0)\n",
        "image = np.array(image)\n",
        "image = image / 255"
      ],
      "execution_count": 110,
      "outputs": []
    },
    {
      "cell_type": "code",
      "metadata": {
        "id": "hZSezQW4S23e",
        "colab_type": "code",
        "colab": {
          "base_uri": "https://localhost:8080/",
          "height": 255
        },
        "outputId": "39601a77-ae0c-4772-b5e7-dff42e2e931e"
      },
      "source": [
        "# Running it through the model\n",
        "predtest = model.predict([image])[0]\n",
        "print(\"The predicted array:\", predtest)\n",
        "print(\"Type of predicted array: \", type(predtest))\n",
        "print(\"Index of arg = \" , np.argmax(predtest))\n",
        "please = np.argmax(predtest)\n",
        "thesign = classnames [please + 1]\n",
        "print(\"The sign reads : \", thesign)"
      ],
      "execution_count": 111,
      "outputs": [
        {
          "output_type": "stream",
          "text": [
            "The predicted array: [0.00000000e+00 3.95583283e-37 1.37152297e-38 9.74275838e-29\n",
            " 0.00000000e+00 8.10348053e-21 0.00000000e+00 0.00000000e+00\n",
            " 0.00000000e+00 0.00000000e+00 6.09554800e-33 1.92960880e-32\n",
            " 2.98925216e-32 3.21881141e-34 0.00000000e+00 0.00000000e+00\n",
            " 6.69887659e-37 0.00000000e+00 4.36311597e-38 0.00000000e+00\n",
            " 5.77813299e-25 7.11476772e-32 0.00000000e+00 1.00273853e-31\n",
            " 1.04081670e-36 1.52649931e-31 0.00000000e+00 0.00000000e+00\n",
            " 1.17002764e-32 3.47475241e-27 8.19504820e-32 8.47074501e-25\n",
            " 0.00000000e+00 1.45173220e-37 1.09799843e-11 4.28651594e-24\n",
            " 1.43192305e-19 0.00000000e+00 1.00000000e+00 5.30833454e-36\n",
            " 1.36900732e-17 0.00000000e+00 0.00000000e+00]\n",
            "Type of predicted array:  <class 'numpy.ndarray'>\n",
            "Index of arg =  38\n",
            "The sign reads :  Keep right\n"
          ],
          "name": "stdout"
        }
      ]
    },
    {
      "cell_type": "code",
      "metadata": {
        "id": "kFeYQ0r2j-Ie",
        "colab_type": "code",
        "colab": {
          "base_uri": "https://localhost:8080/",
          "height": 470
        },
        "outputId": "76e1f7a3-89e0-4669-993a-9abaff58d06e"
      },
      "source": [
        "image = Image.open('Testsign2.jpg')\n",
        "\n",
        "image = image.resize((30,30))\n",
        "image = np.array(image)\n",
        "\n",
        "plt.imshow(image)\n",
        "\n",
        "image = Image.open('Testsign2.jpg')\n",
        "image = image.resize((30,30))\n",
        "image = np.expand_dims(image, axis=0)\n",
        "image = np.array(image)\n",
        "image = image / 255\n",
        "\n",
        "predtest = model.predict([image])[0]\n",
        "print(\"The predicted array:\", predtest)\n",
        "print(\"Type of predicted array: \", type(predtest))\n",
        "print(\"Index of arg = \" , np.argmax(predtest))\n",
        "please = np.argmax(predtest)\n",
        "thesign = classnames [please + 1]\n",
        "print(\"The sign reads : \", thesign)"
      ],
      "execution_count": 115,
      "outputs": [
        {
          "output_type": "stream",
          "text": [
            "The predicted array: [3.0415525e-13 1.8911295e-07 8.8042112e-10 1.8410568e-11 4.2110973e-10\n",
            " 9.9998605e-01 1.3700742e-05 6.8421495e-13 1.1967543e-14 2.3708640e-18\n",
            " 1.1894914e-12 5.8288665e-15 5.2364731e-16 1.8023306e-18 6.6673121e-14\n",
            " 6.4375359e-15 4.1183472e-16 2.1444796e-19 2.6360086e-16 9.9900092e-19\n",
            " 3.9533869e-18 1.2990265e-19 2.3078083e-21 8.9487326e-20 9.9790534e-24\n",
            " 2.3406375e-15 1.4479269e-17 3.3964767e-21 1.6679966e-18 1.3571604e-15\n",
            " 7.5952916e-22 2.1629705e-14 6.4047737e-19 6.8104182e-17 8.9348502e-20\n",
            " 1.5881694e-17 2.6302406e-18 1.4774129e-19 4.3500740e-16 2.8302773e-18\n",
            " 1.2751913e-16 7.6052351e-22 8.5598990e-15]\n",
            "Type of predicted array:  <class 'numpy.ndarray'>\n",
            "Index of arg =  5\n",
            "The sign reads :  Speed limit (80km/h)\n"
          ],
          "name": "stdout"
        },
        {
          "output_type": "display_data",
          "data": {
            "image/png": "[encoded data removed]",
            "text/plain": [
              "<Figure size 432x288 with 1 Axes>"
            ]
          },
          "metadata": {
            "tags": [],
            "needs_background": "light"
          }
        }
      ]
    },
    {
      "cell_type": "code",
      "metadata": {
        "id": "2oLLOTU2obTL",
        "colab_type": "code",
        "colab": {
          "base_uri": "https://localhost:8080/",
          "height": 504
        },
        "outputId": "672db1de-fddb-48b2-e147-54611f1dbd90"
      },
      "source": [
        "image = Image.open('Testsign5.jpg')\n",
        "\n",
        "image = image.resize((30,30))\n",
        "image = np.array(image)\n",
        "\n",
        "plt.imshow(image)\n",
        "\n",
        "image = Image.open('Testsign5.jpg')\n",
        "image = image.resize((30,30))\n",
        "image = np.expand_dims(image, axis=0)\n",
        "image = np.array(image)\n",
        "image = image / 255\n",
        "\n",
        "predtest = model.predict([image])[0]\n",
        "print(\"The predicted array:\", predtest)\n",
        "print(\"Type of predicted array: \", type(predtest))\n",
        "print(\"Index of arg = \" , np.argmax(predtest))\n",
        "please = np.argmax(predtest)\n",
        "thesign = classnames [please + 1]\n",
        "print(\"The sign reads : \", thesign)"
      ],
      "execution_count": 118,
      "outputs": [
        {
          "output_type": "stream",
          "text": [
            "The predicted array: [2.71019715e-36 7.25473328e-24 1.40569414e-28 4.20175760e-26\n",
            " 4.69914520e-33 2.92327302e-23 7.04493907e-28 3.02391955e-26\n",
            " 1.04497751e-21 4.04202822e-24 3.55629077e-31 1.06718806e-26\n",
            " 3.23983910e-26 1.19092741e-22 0.00000000e+00 1.99461101e-29\n",
            " 3.51816272e-21 3.56172929e-34 1.03439850e-24 1.57219229e-33\n",
            " 9.17310522e-19 5.98881721e-30 1.99086701e-33 2.76544311e-29\n",
            " 1.68848433e-28 7.78542415e-23 2.21293788e-26 1.30722732e-33\n",
            " 5.43268445e-20 3.46004806e-24 1.60263268e-25 1.11984786e-31\n",
            " 8.06817904e-24 5.70939291e-19 3.30993405e-14 9.99999642e-01\n",
            " 3.07158643e-07 3.16425301e-21 7.20472990e-17 6.39155894e-19\n",
            " 8.52903696e-18 4.25624159e-23 3.05127731e-26]\n",
            "Type of predicted array:  <class 'numpy.ndarray'>\n",
            "Index of arg =  35\n",
            "The sign reads :  Ahead only\n"
          ],
          "name": "stdout"
        },
        {
          "output_type": "display_data",
          "data": {
            "image/png": "[encoded data removed]",
            "text/plain": [
              "<Figure size 432x288 with 1 Axes>"
            ]
          },
          "metadata": {
            "tags": [],
            "needs_background": "light"
          }
        }
      ]
    },
    {
      "cell_type": "markdown",
      "metadata": {
        "id": "qfSAq7XJdGVe",
        "colab_type": "text"
      },
      "source": [
        "# Conclusion\n",
        "\n",
        "So, as we have checked, the classifier made using the Kaggle data and Keras works properly, wih an accuracy of:\n",
        "\n",
        "* 98.38% on training data set\n",
        "* 99.50% on validation data set\n",
        "* 95.03% on test data set"
      ]
    },
    {
      "cell_type": "code",
      "metadata": {
        "id": "G56kGIe3ohiG",
        "colab_type": "code",
        "colab": {}
      },
      "source": [
        ""
      ],
      "execution_count": null,
      "outputs": []
    }
  ]
}